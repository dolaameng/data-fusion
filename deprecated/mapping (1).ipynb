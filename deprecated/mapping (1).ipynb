{
 "cells": [
  {
   "cell_type": "code",
   "execution_count": 1,
   "metadata": {
    "collapsed": false
   },
   "outputs": [],
   "source": [
    "import theano.tensor as T\n",
    "import theano\n",
    "import numpy as np\n",
    "import time"
   ]
  },
  {
   "cell_type": "code",
   "execution_count": 2,
   "metadata": {
    "collapsed": true
   },
   "outputs": [],
   "source": [
    "from theano.printing import pp"
   ]
  },
  {
   "cell_type": "code",
   "execution_count": 3,
   "metadata": {
    "collapsed": true
   },
   "outputs": [],
   "source": [
    "class HiddenLayer(object):\n",
    "    def __init__(self, rng, input, n_in, n_out, W = None, b = None, activation = T.tanh):\n",
    "        \"\"\"\n",
    "        HIdden layer of MAP\n",
    "        \n",
    "        rng: for random state --> np.random.RandomState\n",
    "        \"\"\"\n",
    "        self.input = input\n",
    "        if W is None:\n",
    "            W_values = np.asarray(\n",
    "                rng.uniform(\n",
    "                    low = - np.sqrt(6. / (n_in + n_out)),\n",
    "                    high = np.sqrt(6. / (n_in + n_out)),\n",
    "                    size = (n_in, n_out)\n",
    "                    ),\n",
    "                dtype = theano.config.floatX\n",
    "                )\n",
    "            if activation == theano.tensor.nnet.sigmoid:\n",
    "                W_values *= 4.\n",
    "            \n",
    "            W1 = theano.shared(W_values, name='W1', borrow = True)\n",
    "        \n",
    "        if b is None:\n",
    "            b_values = np.zeros((n_out,), dtype=theano.config.floatX)\n",
    "            b1 = theano.shared(value=b_values, name='b1', borrow=True)\n",
    "            \n",
    "        self.W = W1\n",
    "        self.b = b1\n",
    "            \n",
    "        lin_output = T.dot(input,self.W) + self.b\n",
    "        self.output = (\n",
    "            lin_output if activation is None\n",
    "            else activation(lin_output)\n",
    "            )\n",
    "            \n",
    "        self.params = [self.W, self.b]\n",
    "                    "
   ]
  },
  {
   "cell_type": "code",
   "execution_count": 4,
   "metadata": {
    "collapsed": false
   },
   "outputs": [],
   "source": [
    "class OutputLayer(object):\n",
    "    def __init__(self, rng, input, n_in, n_out, W = None, b = None, activation = None):\n",
    "        \"\"\"\n",
    "        Output layer of MAP\n",
    "        \n",
    "        rng: for random state --> np.random.RandomState\n",
    "        \"\"\"\n",
    "        self.input = input\n",
    "        \n",
    "        if W is None:\n",
    "            W_values = np.asarray(\n",
    "                rng.uniform(\n",
    "                    low = - np.sqrt(6. / (n_in + n_out)),\n",
    "                    high = np.sqrt(6. / (n_in + n_out)),\n",
    "                    size = (n_in, n_out)\n",
    "                    ),\n",
    "                dtype = theano.config.floatX\n",
    "                )\n",
    "            if activation == theano.tensor.nnet.sigmoid:\n",
    "                W_values *= 4\n",
    "            \n",
    "            W2 = theano.shared(W_values, name='W2', borrow = True)\n",
    "            \n",
    "        if b is None:\n",
    "            b_values = np.zeros((n_out,), dtype=theano.config.floatX)\n",
    "            b2 = theano.shared(value=b_values, name='b2', borrow=True)\n",
    "            \n",
    "        self.W = W2\n",
    "        self.b = b2\n",
    "            \n",
    "        lin_output = T.dot(input,self.W) + self.b\n",
    "        self.output = (\n",
    "            lin_output if activation is None\n",
    "            else activation(lin_output)\n",
    "            )\n",
    "            \n",
    "        self.params = [self.W, self.b]"
   ]
  },
  {
   "cell_type": "code",
   "execution_count": 5,
   "metadata": {
    "collapsed": true
   },
   "outputs": [],
   "source": [
    "class MAP(object):\n",
    "    \n",
    "    def __init__(self, rng, input, n_in, n_hidden, n_out):\n",
    "        \"\"\" Initialization\n",
    "        \"\"\"\n",
    "        self.hiddenLayer = HiddenLayer(\n",
    "            rng = rng,\n",
    "            input = input,\n",
    "            n_in = n_in,\n",
    "            n_out = n_hidden,\n",
    "            activation = T.tanh\n",
    "            )\n",
    "        \n",
    "        self.outputLayer = OutputLayer(\n",
    "            rng = rng,\n",
    "            input = self.hiddenLayer.output,\n",
    "            n_in = n_hidden,\n",
    "            n_out = n_out\n",
    "            )\n",
    "        \n",
    "        self.params = self.hiddenLayer.params + self.outputLayer.params\n",
    "        \n",
    "    def L2_regulation(self,y):\n",
    "        \"\"\" Returns the L2 regulation of object vector and predicted vetor\n",
    "        \"\"\"\n",
    "        \n",
    "        return T.sum((y - self.outputLayer.output) ** 2)"
   ]
  },
  {
   "cell_type": "code",
   "execution_count": 6,
   "metadata": {
    "collapsed": false
   },
   "outputs": [],
   "source": [
    "class MAPPING(object):\n",
    "    \"\"\" Returns the mapping function \n",
    "    X: np.array --> n_samples x n_features\n",
    "    Y: np.array --> n_samples x n_features\n",
    "    lam: penalization for weights\n",
    "    beta: weight for sparsity penalization\n",
    "    sparsity_param: desired average activation of the hidden units\n",
    "    \"\"\"\n",
    "    def __init__(self,learning_rate = 0.01, n_epochs = 1000, batch_size = 20, \n",
    "                 n_hidden = 200, lam = 1e-4, beta = 5, sparsity_param = 0.05):\n",
    "        self.learning_rate = learning_rate\n",
    "        self.n_epochs = n_epochs\n",
    "        self.batch_size = batch_size\n",
    "        self.n_hidden = n_hidden\n",
    "        self.lam = lam\n",
    "        self.beta = beta\n",
    "        self.sparsity_param = sparsity_param\n",
    "        self.W1  = None\n",
    "        self.W2 = None\n",
    "        self.b1 = None\n",
    "        self.b2 = None\n",
    "        self.x_mean = None\n",
    "        self.x_std = None\n",
    "        self.y_mean = None\n",
    "        self.y_std = None\n",
    "    \n",
    "    def fit(self,X,Y):\n",
    "        self.x_mean = X.mean()\n",
    "        self.x_std = X.std()\n",
    "        self.y_mean = Y.mean()\n",
    "        self.y_std = Y.std()\n",
    "        X = (X - self.x_mean) / self.x_std\n",
    "        Y = (Y - self.y_mean) / self.y_std\n",
    "        n_batches = X.shape[0] / self.batch_size\n",
    "\n",
    "        shared_X = theano.shared(np.asarray(X, dtype = theano.config.floatX))\n",
    "        shared_Y = theano.shared(np.asarray(Y, dtype = theano.config.floatX))\n",
    "\n",
    "        ### Build model ###\n",
    "        print \"... building the model...\"\n",
    "\n",
    "        # allocate symbolic variables for the data\n",
    "        index = T.lscalar() # index for a mini batch\n",
    "        x = T.dmatrix('x')\n",
    "        y = T.dmatrix('y')\n",
    "\n",
    "        rng = np.random.RandomState(1234)\n",
    "\n",
    "        # construct MAP class\n",
    "        f_mapping = MAP(\n",
    "            rng = rng,\n",
    "            input = x,\n",
    "            n_in = X.shape[1],\n",
    "            n_hidden = self.n_hidden,\n",
    "            n_out = Y.shape[1]\n",
    "            )\n",
    "\n",
    "        ### Cost function ########################################################\n",
    "        hidden_output = f_mapping.hiddenLayer.output\n",
    "        rho_hat = (T.sum(hidden_output, axis = 0) / X.shape[0] + 1) / 2 ## rescale to [0,1]\n",
    "        L2 = f_mapping.L2_regulation(y)/ self.batch_size * 0.5 # penalization for vector\n",
    "        reg = 0.5 * self.lam * (T.sum(f_mapping.hiddenLayer.W ** 2) + T.sum(f_mapping.hiddenLayer.b **2) + T.sum(f_mapping.outputLayer.W ** 2) + T.sum(f_mapping.outputLayer.b ** 2))\n",
    "        sparsity = self.beta * T.sum(self.sparsity_param * T.log(self.sparsity_param / rho_hat) + (1 - self.sparsity_param) * T.log((1 - self.sparsity_param) / ( 1 - rho_hat)))\n",
    "        cost = L2 + sparsity + reg \n",
    "\n",
    "        # compute the gradient of the cost wrt to parameters\n",
    "        gparams = [T.grad(cost,param) for param in f_mapping.params]\n",
    "\n",
    "        # specify how to update parameters\n",
    "        updates = [\n",
    "            (param, param - self.learning_rate * gparam)\n",
    "            for param, gparam in zip(f_mapping.params, gparams)\n",
    "            ]\n",
    "\n",
    "\n",
    "\n",
    "        ## train the model\n",
    "        train_model = theano.function(\n",
    "            inputs = [index],\n",
    "            outputs = cost,\n",
    "            updates = updates,\n",
    "            givens={\n",
    "                x: shared_X[index * self.batch_size: (index + 1) * self.batch_size],\n",
    "                y: shared_Y[index * self.batch_size: (index + 1) * self.batch_size]\n",
    "                }\n",
    "            )\n",
    "\n",
    "\n",
    "        start_time = time.clock()\n",
    "\n",
    "        epoch = 0\n",
    "        done_looping = False\n",
    "\n",
    "        while (epoch < self.n_epochs) and (not done_looping):\n",
    "            minibatch_avg_cost = 0\n",
    "            n = 0\n",
    "            epoch += 1\n",
    "            for minibatch_index in xrange(n_batches):\n",
    "                minibatch_avg_cost += train_model(minibatch_index)\n",
    "                n+=1\n",
    "                #print minibatch_avg_cost\n",
    "            print epoch, \":\", minibatch_avg_cost*1./n\n",
    "        \n",
    "        self.W1 = f_mapping.hiddenLayer.W.get_value()\n",
    "        self.b1 = f_mapping.hiddenLayer.b.get_value()\n",
    "        self.W2 = f_mapping.outputLayer.W.get_value()\n",
    "        self.b2 = f_mapping.outputLayer.b.get_value()\n",
    "    \n",
    "    def transfrom(self,X):\n",
    "        \"\"\"\n",
    "        X: n_sample x n_features\n",
    "        \"\"\"\n",
    "        X = (X - self.x_mean)/self.x_std\n",
    "        Y = np.dot(np.tanh(np.dot(X,self.W1) + self.b1 ), self.W2 ) + self.b2\n",
    "        return Y * self.y_std + self.y_mean"
   ]
  },
  {
   "cell_type": "code",
   "execution_count": 7,
   "metadata": {
    "collapsed": false
   },
   "outputs": [],
   "source": [
    "import os\n",
    "f_dir = \"../\"\n",
    "os.chdir(f_dir)\n",
    "import cPickle"
   ]
  },
  {
   "cell_type": "code",
   "execution_count": 10,
   "metadata": {
    "collapsed": false
   },
   "outputs": [
    {
     "name": "stdout",
     "output_type": "stream",
     "text": [
      "CPU times: user 18.2 s, sys: 287 ms, total: 18.5 s\n",
      "Wall time: 18.5 s\n",
      "CPU times: user 409 ms, sys: 5.35 ms, total: 415 ms\n",
      "Wall time: 415 ms\n",
      "CPU times: user 2min 42s, sys: 3.14 s, total: 2min 45s\n",
      "Wall time: 2min 45s\n",
      "CPU times: user 3.71 s, sys: 71.5 ms, total: 3.78 s\n",
      "Wall time: 3.8 s\n"
     ]
    }
   ],
   "source": [
    "\n",
    "with open(\"data/cifar-10-batches-py/test_x\",\"r\") as f:\n",
    "    %time test_x = cPickle.load(f)\n",
    "with open(\"data/cifar-10-batches-py/test_y\",\"r\") as f:\n",
    "    %time test_y = cPickle.load(f)\n",
    "#train_x,train_y = test_x, test_y\n",
    "with open(\"data/cifar-10-batches-py/train_x\",\"r\") as f:\n",
    "    %time train_x = cPickle.load(f)\n",
    "with open(\"data/cifar-10-batches-py/train_y\",\"r\") as f:\n",
    "    %time train_y = cPickle.load(f)"
   ]
  },
  {
   "cell_type": "code",
   "execution_count": null,
   "metadata": {
    "collapsed": false
   },
   "outputs": [],
   "source": []
  },
  {
   "cell_type": "code",
   "execution_count": 14,
   "metadata": {
    "collapsed": false,
    "scrolled": true
   },
   "outputs": [
    {
     "name": "stdout",
     "output_type": "stream",
     "text": [
      "... building the model...\n",
      "1 : 562.456677527\n",
      "2 : 535.420104241\n",
      "3 : 529.646877656\n",
      "4 : 524.892510291\n",
      "5 : 521.851127505\n",
      "6 : 521.244270134\n",
      "7 : 518.72439146\n",
      "8 : 517.777871917\n",
      "9 : 515.692502918\n",
      "10 : 515.587798516\n",
      "11 : 514.115280114\n",
      "12 : 513.227487955\n",
      "13 : 514.151711341\n",
      "14 : 513.483559213\n",
      "15 : 512.200604394\n",
      "16 : 512.128089304\n",
      "17 : 512.253625695\n",
      "18 : 513.077620572\n",
      "19 : 511.462337104\n",
      "20 : 509.776611916\n",
      "21 : 510.884570976\n",
      "22 : 511.815167961\n",
      "23 : 511.217951063\n",
      "24 : 512.029002023\n",
      "25 : 510.103354461\n",
      "26 : 509.200005085\n",
      "27 : 510.325728886\n",
      "28 : 510.047315309\n",
      "29 : 510.213809314\n",
      "30 : 509.718481951\n",
      "31 : 510.312957186\n",
      "32 : 510.569294282\n",
      "33 : 508.304013522\n",
      "34 : 508.628324899\n",
      "35 : 510.249620501\n",
      "36 : 510.830572289\n",
      "37 : 508.577643269\n",
      "38 : 507.352331352\n",
      "39 : 509.261712262\n",
      "40 : 509.652433225\n",
      "41 : 508.785843269\n",
      "42 : 508.695730705\n",
      "43 : 507.981942325\n",
      "44 : 509.911783407\n",
      "45 : 508.156222922\n",
      "46 : 507.257496464\n",
      "47 : 508.811283593\n",
      "48 : 508.051707975\n",
      "49 : 508.790317383\n",
      "50 : 508.031082993\n",
      "51 : 508.71236393\n",
      "52 : 507.566602235\n",
      "53 : 507.795854912\n",
      "54 : 506.455782686\n",
      "55 : 509.206357474\n",
      "56 : 507.909497985\n",
      "57 : 507.093432094\n",
      "58 : 507.704187122\n",
      "59 : 507.478542763\n",
      "60 : 506.431720453\n",
      "61 : 507.912327297\n",
      "62 : 507.459701748\n",
      "63 : 507.781212024\n",
      "64 : 507.903557786\n",
      "65 : 508.063739993\n",
      "66 : 506.411447329\n",
      "67 : 507.707236318\n",
      "68 : 506.890875848\n",
      "69 : 507.363470615\n",
      "70 : 506.968355422\n",
      "71 : 507.041176227\n",
      "72 : 507.603579589\n",
      "73 : 506.49303417\n",
      "74 : 506.053988606\n",
      "75 : 508.224271412\n",
      "76 : 506.165404423\n",
      "77 : 507.31415932\n",
      "78 : 505.712774615\n",
      "79 : 506.65830229\n",
      "80 : 506.538044332\n",
      "81 : 506.629485171\n",
      "82 : 506.991384446\n",
      "83 : 505.159821226\n",
      "84 : 507.059170744\n",
      "85 : 507.737478461\n",
      "86 : 505.659025024\n",
      "87 : 506.643726225\n",
      "88 : 506.758003091\n",
      "89 : 506.213926818\n",
      "90 : 506.7176253\n",
      "91 : 506.601313695\n",
      "92 : 506.154902176\n",
      "93 : 506.874120087\n",
      "94 : 506.000880236\n",
      "95 : 506.467107039\n",
      "96 : 506.575619768\n",
      "97 : 505.413890095\n",
      "98 : 505.507804144\n",
      "99 : 505.832312814\n",
      "100 : 506.537475658\n",
      "CPU times: user 2h 22min 30s, sys: 1h 17min 21s, total: 3h 39min 51s\n",
      "Wall time: 9min 28s\n"
     ]
    }
   ],
   "source": [
    "mapping = MAPPING(n_hidden = 200, n_epochs = 100, batch_size = 200, learning_rate=0.01, lam=1e-4)\n",
    "%time mapping.fit(train_x,train_y)"
   ]
  },
  {
   "cell_type": "code",
   "execution_count": 15,
   "metadata": {
    "collapsed": false,
    "scrolled": false
   },
   "outputs": [],
   "source": [
    "y_pred = mapping.transfrom(test_x)"
   ]
  },
  {
   "cell_type": "code",
   "execution_count": 16,
   "metadata": {
    "collapsed": true
   },
   "outputs": [],
   "source": [
    "train_y_pred = mapping.transfrom(train_x)"
   ]
  },
  {
   "cell_type": "code",
   "execution_count": 17,
   "metadata": {
    "collapsed": false
   },
   "outputs": [
    {
     "name": "stdout",
     "output_type": "stream",
     "text": [
      "CPU times: user 3.76 ms, sys: 0 ns, total: 3.76 ms\n",
      "Wall time: 18.3 ms\n"
     ]
    }
   ],
   "source": [
    "with open(\"data/cifar-10-batches-py/labels_vectors\",\"r\") as f:\n",
    "    %time label_vec = cPickle.load(f)"
   ]
  },
  {
   "cell_type": "code",
   "execution_count": 18,
   "metadata": {
    "collapsed": false
   },
   "outputs": [],
   "source": [
    "sim_cosine_train = np.zeros((train_y_pred.shape[0],label_vec.shape[0]))\n",
    "for i in xrange(train_y_pred.shape[0]):\n",
    "    for j in xrange(label_vec.shape[0]):\n",
    "        sim_cosine_train[i,j] = np.dot(train_y_pred[i],label_vec[j])/np.sqrt((train_y_pred[i]**2).sum())/np.sqrt((label_vec[j]**2).sum())"
   ]
  },
  {
   "cell_type": "code",
   "execution_count": 19,
   "metadata": {
    "collapsed": true
   },
   "outputs": [],
   "source": [
    "sim_cosine = np.zeros((y_pred.shape[0],label_vec.shape[0]))\n",
    "for i in xrange(y_pred.shape[0]):\n",
    "    for j in xrange(label_vec.shape[0]):\n",
    "        sim_cosine[i,j] = np.dot(y_pred[i],label_vec[j])/np.sqrt((y_pred[i]**2).sum())/np.sqrt((label_vec[j]**2).sum())"
   ]
  },
  {
   "cell_type": "code",
   "execution_count": 20,
   "metadata": {
    "collapsed": false
   },
   "outputs": [],
   "source": [
    "train_pred = np.argsort(sim_cosine)[:,-1]"
   ]
  },
  {
   "cell_type": "code",
   "execution_count": 21,
   "metadata": {
    "collapsed": false
   },
   "outputs": [
    {
     "data": {
      "text/plain": [
       "(10, 100)"
      ]
     },
     "execution_count": 21,
     "metadata": {},
     "output_type": "execute_result"
    }
   ],
   "source": [
    "label_vec.shape"
   ]
  },
  {
   "cell_type": "code",
   "execution_count": null,
   "metadata": {
    "collapsed": true
   },
   "outputs": [],
   "source": []
  },
  {
   "cell_type": "markdown",
   "metadata": {},
   "source": [
    "# Evaluation"
   ]
  },
  {
   "cell_type": "code",
   "execution_count": 22,
   "metadata": {
    "collapsed": false
   },
   "outputs": [
    {
     "name": "stdout",
     "output_type": "stream",
     "text": [
      "Counter({3: 3228, 2: 1168, 7: 736, 4: 500, 6: 261, 9: 52, 0: 39, 8: 10, 1: 6})\n"
     ]
    }
   ],
   "source": [
    "## number of predict classes\n",
    "from collections import Counter\n",
    "print Counter(np.argsort(sim_cosine)[:,-1])"
   ]
  },
  {
   "cell_type": "code",
   "execution_count": 24,
   "metadata": {
    "collapsed": false
   },
   "outputs": [
    {
     "data": {
      "text/plain": [
       "<matplotlib.text.Text at 0x7fadcb9e5250>"
      ]
     },
     "execution_count": 24,
     "metadata": {},
     "output_type": "execute_result"
    },
    {
     "data": {
      "image/png": "[encoded data removed]",
      "text/plain": [
       "<matplotlib.figure.Figure at 0x7fae00557510>"
      ]
     },
     "metadata": {},
     "output_type": "display_data"
    }
   ],
   "source": [
    "import matplotlib.pylab as pl\n",
    "%matplotlib inline\n",
    "rank = 10 - np.where(np.argsort(sim_cosine) == 5)[1]\n",
    "pl.hist(rank,bins=10)\n",
    "pl.title('rank of dog label for dog images')"
   ]
  },
  {
   "cell_type": "code",
   "execution_count": 25,
   "metadata": {
    "collapsed": false
   },
   "outputs": [
    {
     "data": {
      "text/plain": [
       "<matplotlib.text.Text at 0x7fadfdc6f610>"
      ]
     },
     "execution_count": 25,
     "metadata": {},
     "output_type": "execute_result"
    },
    {
     "data": {
      "image/png": "[encoded data removed]",
      "text/plain": [
       "<matplotlib.figure.Figure at 0x7fae0b3c9fd0>"
      ]
     },
     "metadata": {},
     "output_type": "display_data"
    }
   ],
   "source": [
    "import matplotlib.pylab as pl\n",
    "%matplotlib inline\n",
    "pl.hist(sim_cosine[np.where(np.argsort(sim_cosine) == 5)])\n",
    "pl.title('cosine similarity of dog label to predict label')"
   ]
  },
  {
   "cell_type": "code",
   "execution_count": 26,
   "metadata": {
    "collapsed": true
   },
   "outputs": [],
   "source": [
    "cosine_dog = np.zeros((train_x.shape[0] + test_x.shape[0],))\n",
    "tmp = np.concatenate((train_y_pred, y_pred))\n",
    "for i in xrange(cosine_dog.shape[0]):\n",
    "    cosine_dog[i] = np.dot(label_vec[5],tmp[i])/np.sqrt((label_vec[5]**2).sum())/np.sqrt((tmp[i]**2).sum())"
   ]
  },
  {
   "cell_type": "code",
   "execution_count": 27,
   "metadata": {
    "collapsed": false
   },
   "outputs": [],
   "source": [
    "with open(\"data/cifar-10-batches-py/batches.meta\",\"r\") as f:\n",
    "    meta = cPickle.load(f)"
   ]
  },
  {
   "cell_type": "code",
   "execution_count": 28,
   "metadata": {
    "collapsed": false
   },
   "outputs": [
    {
     "name": "stdout",
     "output_type": "stream",
     "text": [
      "0 airplane\n",
      "1 automobile\n",
      "2 bird\n",
      "3 cat\n",
      "4 deer\n",
      "5 dog\n",
      "6 frog\n",
      "7 horse\n",
      "8 ship\n",
      "9 truck\n"
     ]
    }
   ],
   "source": [
    "j = 0\n",
    "info = []\n",
    "for i in meta[\"label_names\"]:\n",
    "    print j, i\n",
    "    info.append((j,i))\n",
    "    j+= 1"
   ]
  },
  {
   "cell_type": "code",
   "execution_count": 31,
   "metadata": {
    "collapsed": true
   },
   "outputs": [],
   "source": [
    "labels = np.zeros((train_y.shape[0],))\n",
    "for i in xrange(train_y.shape[0]):\n",
    "    for j in xrange(label_vec.shape[0]):\n",
    "        if (label_vec[j] == train_y[i]).all():\n",
    "            labels[i] = j\n",
    "            pass"
   ]
  },
  {
   "cell_type": "code",
   "execution_count": 32,
   "metadata": {
    "collapsed": false,
    "scrolled": true
   },
   "outputs": [
    {
     "name": "stdout",
     "output_type": "stream",
     "text": [
      "cat\n",
      "cat\n",
      "cat\n",
      "dog\n",
      "cat\n",
      "cat\n",
      "cat\n",
      "cat\n",
      "dog\n",
      "truck\n",
      "cat\n",
      "dog\n",
      "cat\n",
      "dog\n",
      "cat\n",
      "cat\n",
      "dog\n",
      "dog\n",
      "deer\n",
      "cat\n",
      "cat\n",
      "dog\n",
      "deer\n",
      "dog\n",
      "dog\n",
      "cat\n",
      "cat\n",
      "cat\n",
      "cat\n",
      "dog\n",
      "dog\n",
      "cat\n",
      "cat\n",
      "cat\n",
      "cat\n",
      "cat\n",
      "dog\n",
      "cat\n",
      "cat\n",
      "dog\n",
      "cat\n",
      "cat\n",
      "cat\n",
      "cat\n",
      "cat\n",
      "cat\n",
      "bird\n",
      "dog\n",
      "horse\n",
      "horse\n",
      "dog\n",
      "dog\n",
      "cat\n",
      "cat\n",
      "dog\n",
      "cat\n",
      "dog\n",
      "cat\n",
      "cat\n",
      "dog\n",
      "cat\n",
      "dog\n",
      "dog\n",
      "cat\n",
      "cat\n",
      "cat\n",
      "cat\n",
      "cat\n",
      "dog\n",
      "cat\n",
      "cat\n",
      "dog\n",
      "cat\n",
      "cat\n",
      "dog\n",
      "cat\n",
      "cat\n",
      "cat\n",
      "cat\n",
      "cat\n",
      "cat\n",
      "dog\n",
      "dog\n",
      "cat\n",
      "dog\n",
      "dog\n",
      "cat\n",
      "dog\n",
      "dog\n",
      "cat\n",
      "cat\n",
      "dog\n",
      "dog\n",
      "dog\n",
      "cat\n",
      "cat\n",
      "cat\n",
      "cat\n",
      "cat\n",
      "cat\n",
      "dog\n",
      "cat\n",
      "cat\n",
      "ship\n",
      "dog\n",
      "cat\n",
      "dog\n",
      "dog\n",
      "dog\n",
      "dog\n",
      "dog\n",
      "dog\n",
      "cat\n",
      "dog\n",
      "horse\n",
      "dog\n",
      "cat\n",
      "cat\n",
      "cat\n",
      "cat\n",
      "dog\n",
      "dog\n",
      "cat\n",
      "deer\n",
      "dog\n",
      "cat\n",
      "dog\n",
      "dog\n",
      "horse\n",
      "cat\n",
      "dog\n",
      "cat\n",
      "dog\n",
      "cat\n",
      "cat\n",
      "cat\n",
      "dog\n",
      "cat\n",
      "dog\n",
      "dog\n",
      "cat\n",
      "bird\n",
      "dog\n",
      "dog\n",
      "cat\n",
      "cat\n",
      "airplane\n",
      "dog\n",
      "dog\n",
      "cat\n",
      "dog\n",
      "dog\n",
      "horse\n",
      "bird\n",
      "dog\n",
      "cat\n",
      "dog\n",
      "cat\n",
      "dog\n",
      "cat\n",
      "dog\n",
      "dog\n",
      "cat\n",
      "dog\n",
      "dog\n",
      "cat\n",
      "dog\n",
      "bird\n",
      "cat\n",
      "dog\n",
      "dog\n",
      "dog\n",
      "cat\n",
      "horse\n",
      "dog\n",
      "dog\n",
      "cat\n",
      "deer\n",
      "dog\n",
      "cat\n",
      "dog\n",
      "dog\n",
      "dog\n",
      "horse\n",
      "dog\n",
      "dog\n",
      "horse\n",
      "dog\n",
      "dog\n",
      "dog\n",
      "deer\n",
      "dog\n",
      "dog\n",
      "ship\n",
      "cat\n",
      "dog\n",
      "cat\n",
      "cat\n",
      "dog\n",
      "horse\n"
     ]
    }
   ],
   "source": [
    "for i in np.argsort(cosine_dog)[::-1][:200]:\n",
    "    if i > train_x.shape[0] - 1:\n",
    "        print 'dog'\n",
    "    else:\n",
    "        j = int(labels[i])\n",
    "        print info[j][1]"
   ]
  },
  {
   "cell_type": "code",
   "execution_count": null,
   "metadata": {
    "collapsed": false
   },
   "outputs": [],
   "source": [
    "labels[i]"
   ]
  },
  {
   "cell_type": "code",
   "execution_count": null,
   "metadata": {
    "collapsed": false
   },
   "outputs": [],
   "source": [
    "np.argsort(cosine_dog)[::-1][:100][0] > train_x.shape[0]"
   ]
  },
  {
   "cell_type": "code",
   "execution_count": null,
   "metadata": {
    "collapsed": true
   },
   "outputs": [],
   "source": []
  },
  {
   "cell_type": "code",
   "execution_count": null,
   "metadata": {
    "collapsed": false
   },
   "outputs": [],
   "source": []
  },
  {
   "cell_type": "code",
   "execution_count": null,
   "metadata": {
    "collapsed": false
   },
   "outputs": [],
   "source": []
  },
  {
   "cell_type": "code",
   "execution_count": null,
   "metadata": {
    "collapsed": false
   },
   "outputs": [],
   "source": [
    "labels"
   ]
  },
  {
   "cell_type": "code",
   "execution_count": null,
   "metadata": {
    "collapsed": true
   },
   "outputs": [],
   "source": []
  },
  {
   "cell_type": "code",
   "execution_count": null,
   "metadata": {
    "collapsed": false
   },
   "outputs": [],
   "source": [
    "print train_y_pred"
   ]
  },
  {
   "cell_type": "code",
   "execution_count": null,
   "metadata": {
    "collapsed": true
   },
   "outputs": [],
   "source": [
    "sim_cosine = np.zeros((train_y_pred.shape[0],label_vec.shape[0]))\n",
    "for i in xrange(train_y_pred.shape[0]):\n",
    "    for j in xrange(label_vec.shape[0]):\n",
    "        sim_cosine[i,j] = np.dot(train_y_pred[i],label_vec[j])/np.sqrt((train_y_pred[i]**2).sum())/np.sqrt((label_vec[j]**2).sum())"
   ]
  },
  {
   "cell_type": "code",
   "execution_count": null,
   "metadata": {
    "collapsed": false
   },
   "outputs": [],
   "source": [
    "from collections import Counter\n",
    "print np.argsort(sim_cosine)[:,-1]"
   ]
  },
  {
   "cell_type": "code",
   "execution_count": null,
   "metadata": {
    "collapsed": false
   },
   "outputs": [],
   "source": [
    "Counter(np.array(np.argsort(sim_cosine)[:,-1]) == labels)"
   ]
  },
  {
   "cell_type": "code",
   "execution_count": null,
   "metadata": {
    "collapsed": true
   },
   "outputs": [],
   "source": []
  }
 ],
 "metadata": {
  "kernelspec": {
   "display_name": "Python 2",
   "language": "python",
   "name": "python2"
  },
  "language_info": {
   "codemirror_mode": {
    "name": "ipython",
    "version": 2
   },
   "file_extension": ".py",
   "mimetype": "text/x-python",
   "name": "python",
   "nbconvert_exporter": "python",
   "pygments_lexer": "ipython2",
   "version": "2.7.6"
  }
 },
 "nbformat": 4,
 "nbformat_minor": 0
}
