{
 "cells": [
  {
   "cell_type": "code",
   "execution_count": 1,
   "metadata": {
    "collapsed": false
   },
   "outputs": [
    {
     "name": "stderr",
     "output_type": "stream",
     "text": [
      "WARNING:root:Warning: I cannot import mpi4py. Using a dummpy single noded implementation instead. The program will run in single node mode even if you executed me with mpirun or mpiexec.\n",
      "\n",
      "We STRONGLY recommend you to try to install mpi and mpi4py.\n",
      "\n",
      "WARNING:root:mpi4py exception message is: No module named mpi4py\n",
      "WARNING:root:decaf.util.pyvml: unable to load the mkl library. Using fallback options.\n"
     ]
    },
    {
     "name": "stdout",
     "output_type": "stream",
     "text": [
      "Couldn't import dot_parser, loading of dot files will not be possible.\n"
     ]
    }
   ],
   "source": [
    "from decaf.scripts.imagenet import DecafNet"
   ]
  },
  {
   "cell_type": "code",
   "execution_count": 2,
   "metadata": {
    "collapsed": true
   },
   "outputs": [],
   "source": [
    "import os\n",
    "f_dir = \"/home/ce-ruoxu/workspace/data-fusion/\"\n",
    "os.chdir(f_dir)"
   ]
  },
  {
   "cell_type": "code",
   "execution_count": 3,
   "metadata": {
    "collapsed": false
   },
   "outputs": [
    {
     "name": "stdout",
     "output_type": "stream",
     "text": [
      "CPU times: user 755 ms, sys: 242 ms, total: 998 ms\n",
      "Wall time: 1e+03 ms\n"
     ]
    }
   ],
   "source": [
    "wt_dir = 'data/decaf/imagenet_pretrained/'\n",
    "%time net = DecafNet(wt_dir + 'imagenet.decafnet.epoch90',wt_dir + 'imagenet.decafnet.meta')"
   ]
  },
  {
   "cell_type": "code",
   "execution_count": 59,
   "metadata": {
    "collapsed": false
   },
   "outputs": [],
   "source": [
    "import os\n",
    "im_dir = \"data/im2text/subset_4837/image/\"\n",
    "f_names = os.listdir(f_dir + im_dir)"
   ]
  },
  {
   "cell_type": "code",
   "execution_count": 26,
   "metadata": {
    "collapsed": false
   },
   "outputs": [],
   "source": [
    "import matplotlib.pyplot as plt\n",
    "%matplotlib inline\n",
    "import numpy as np"
   ]
  },
  {
   "cell_type": "code",
   "execution_count": 50,
   "metadata": {
    "collapsed": false
   },
   "outputs": [],
   "source": [
    "# return 4096 d feature of the image\n",
    "def feature_extractor(im_name):\n",
    "    #layer = 'fc7_cudanet_out'\n",
    "    import matplotlib.pyplot as plt\n",
    "    layer = 'fc6_cudanet_out'\n",
    "    result = plt.imread(im_name)\n",
    "    scores = net.classify(result.astype('uint8'),center_only=True)\n",
    "    feature = net.feature(layer)\n",
    "    return feature.flatten()"
   ]
  },
  {
   "cell_type": "code",
   "execution_count": 28,
   "metadata": {
    "collapsed": false
   },
   "outputs": [],
   "source": [
    "from IPython import parallel\n",
    "clients = parallel.Client()\n",
    "clients.block = True\n",
    "view = clients.load_balanced_view()"
   ]
  },
  {
   "cell_type": "code",
   "execution_count": 41,
   "metadata": {
    "collapsed": false
   },
   "outputs": [
    {
     "data": {
      "text/plain": [
       "array([-12.64466858, -18.77211189,  17.39270401, ..., -10.06385422,\n",
       "        -0.81068993, -20.84035683], dtype=float32)"
      ]
     },
     "execution_count": 41,
     "metadata": {},
     "output_type": "execute_result"
    }
   ],
   "source": [
    "feature_extractor('672675')"
   ]
  },
  {
   "cell_type": "code",
   "execution_count": 44,
   "metadata": {
    "collapsed": false
   },
   "outputs": [
    {
     "data": {
      "text/plain": [
       "array([-17.55247116, -17.88421631, -16.76299858, ...,  -5.77874422,\n",
       "       -10.85248661, -20.48731422], dtype=float32)"
      ]
     },
     "execution_count": 44,
     "metadata": {},
     "output_type": "execute_result"
    }
   ],
   "source": [
    "feature_extractor(f_names[1])"
   ]
  },
  {
   "cell_type": "code",
   "execution_count": 63,
   "metadata": {
    "collapsed": false
   },
   "outputs": [],
   "source": [
    "import time"
   ]
  },
  {
   "cell_type": "code",
   "execution_count": 67,
   "metadata": {
    "collapsed": false
   },
   "outputs": [
    {
     "data": {
      "text/plain": [
       "0.00014199999999675583"
      ]
     },
     "execution_count": 67,
     "metadata": {},
     "output_type": "execute_result"
    }
   ],
   "source": []
  },
  {
   "cell_type": "code",
   "execution_count": 70,
   "metadata": {
    "collapsed": false
   },
   "outputs": [],
   "source": [
    "### Extract image features\n",
    "start = time.clock()\n",
    "index = []\n",
    "train_ims = []\n",
    "for im_name in f_names:\n",
    "    try:\n",
    "        train_ims.append(feature_extractor(im_dir + im_name))\n",
    "        index.append(im_name)\n",
    "    except:\n",
    "        pass\n",
    "time.clock()-start\n",
    "train_ims = np.array(train_ims)"
   ]
  },
  {
   "cell_type": "code",
   "execution_count": 75,
   "metadata": {
    "collapsed": false
   },
   "outputs": [],
   "source": [
    "import cPickle\n",
    "with open(\"data/im2text/index_fc6_cudanet_out\",\"wb\") as f:\n",
    "    cPickle.dump(index,f)\n",
    "with open(\"data/im2text/features_fc6_cudanet_out\",\"wb\") as f:\n",
    "    cPickle.dump(train_ims,f)"
   ]
  },
  {
   "cell_type": "code",
   "execution_count": null,
   "metadata": {
    "collapsed": true
   },
   "outputs": [],
   "source": []
  }
 ],
 "metadata": {
  "kernelspec": {
   "display_name": "Python 2",
   "language": "python",
   "name": "python2"
  },
  "language_info": {
   "codemirror_mode": {
    "name": "ipython",
    "version": 2
   },
   "file_extension": ".py",
   "mimetype": "text/x-python",
   "name": "python",
   "nbconvert_exporter": "python",
   "pygments_lexer": "ipython2",
   "version": "2.7.6"
  }
 },
 "nbformat": 4,
 "nbformat_minor": 0
}
