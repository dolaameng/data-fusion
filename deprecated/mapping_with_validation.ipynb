{
 "cells": [
  {
   "cell_type": "code",
   "execution_count": 1,
   "metadata": {
    "collapsed": false
   },
   "outputs": [
    {
     "name": "stdout",
     "output_type": "stream",
     "text": [
      "Couldn't import dot_parser, loading of dot files will not be possible.\n"
     ]
    }
   ],
   "source": [
    "import theano.tensor as T\n",
    "import theano\n",
    "import numpy as np\n",
    "import time\n",
    "import pandas as pd\n",
    "\n",
    "from sklearn.utils import shuffle\n",
    "from sklearn.preprocessing import StandardScaler"
   ]
  },
  {
   "cell_type": "code",
   "execution_count": 2,
   "metadata": {
    "collapsed": true
   },
   "outputs": [],
   "source": [
    "from theano.printing import pp"
   ]
  },
  {
   "cell_type": "code",
   "execution_count": 3,
   "metadata": {
    "collapsed": true
   },
   "outputs": [],
   "source": [
    "class HiddenLayer(object):\n",
    "    def __init__(self, rng, input, n_in, n_out, W = None, b = None, activation = T.tanh):\n",
    "        \"\"\"\n",
    "        HIdden layer of MAP\n",
    "        \n",
    "        rng: for random state --> np.random.RandomState\n",
    "        \"\"\"\n",
    "        self.input = input\n",
    "        if W is None:\n",
    "            W_values = np.asarray(\n",
    "                rng.uniform(\n",
    "                    low = - np.sqrt(6. / (n_in + n_out)),\n",
    "                    high = np.sqrt(6. / (n_in + n_out)),\n",
    "                    size = (n_in, n_out)\n",
    "                    ),\n",
    "                dtype = theano.config.floatX\n",
    "                )\n",
    "            if activation == theano.tensor.nnet.sigmoid:\n",
    "                W_values *= 4.\n",
    "            \n",
    "            W1 = theano.shared(W_values, name='W1', borrow = True)\n",
    "        \n",
    "        if b is None:\n",
    "            b_values = np.zeros((n_out,), dtype=theano.config.floatX)\n",
    "            b1 = theano.shared(value=b_values, name='b1', borrow=True)\n",
    "            \n",
    "        self.W = W1\n",
    "        self.b = b1\n",
    "            \n",
    "        lin_output = T.dot(input,self.W) + self.b\n",
    "        self.output = (\n",
    "            lin_output if activation is None\n",
    "            else activation(lin_output)\n",
    "            )\n",
    "            \n",
    "        self.params = [self.W, self.b]\n",
    "                    "
   ]
  },
  {
   "cell_type": "code",
   "execution_count": 4,
   "metadata": {
    "collapsed": false
   },
   "outputs": [],
   "source": [
    "class OutputLayer(object):\n",
    "    def __init__(self, rng, input, n_in, n_out, W = None, b = None, activation = None):\n",
    "        \"\"\"\n",
    "        Output layer of MAP\n",
    "        \n",
    "        rng: for random state --> np.random.RandomState\n",
    "        \"\"\"\n",
    "        self.input = input\n",
    "        \n",
    "        if W is None:\n",
    "            W_values = np.asarray(\n",
    "                rng.uniform(\n",
    "                    low = - np.sqrt(6. / (n_in + n_out)),\n",
    "                    high = np.sqrt(6. / (n_in + n_out)),\n",
    "                    size = (n_in, n_out)\n",
    "                    ),\n",
    "                dtype = theano.config.floatX\n",
    "                )\n",
    "            if activation == theano.tensor.nnet.sigmoid:\n",
    "                W_values *= 4\n",
    "            \n",
    "            W2 = theano.shared(W_values, name='W2', borrow = True)\n",
    "            \n",
    "        if b is None:\n",
    "            b_values = np.zeros((n_out,), dtype=theano.config.floatX)\n",
    "            b2 = theano.shared(value=b_values, name='b2', borrow=True)\n",
    "            \n",
    "        self.W = W2\n",
    "        self.b = b2\n",
    "            \n",
    "        lin_output = T.dot(input,self.W) + self.b\n",
    "        self.output = (\n",
    "            lin_output if activation is None\n",
    "            else activation(lin_output)\n",
    "            )\n",
    "            \n",
    "        self.params = [self.W, self.b]"
   ]
  },
  {
   "cell_type": "code",
   "execution_count": 5,
   "metadata": {
    "collapsed": true
   },
   "outputs": [],
   "source": [
    "class MAP(object):\n",
    "    \n",
    "    def __init__(self, rng, input, n_in, n_hidden, n_out):\n",
    "        \"\"\" Initialization\n",
    "        \"\"\"\n",
    "        self.hiddenLayer = HiddenLayer(\n",
    "            rng = rng,\n",
    "            input = input,\n",
    "            n_in = n_in,\n",
    "            n_out = n_hidden,\n",
    "            activation = T.tanh\n",
    "            )\n",
    "        \n",
    "        self.outputLayer = OutputLayer(\n",
    "            rng = rng,\n",
    "            input = self.hiddenLayer.output,\n",
    "            n_in = n_hidden,\n",
    "            n_out = n_out\n",
    "            )\n",
    "        \n",
    "        self.params = self.hiddenLayer.params + self.outputLayer.params\n",
    "        \n",
    "    def L2_regulation(self,y):\n",
    "        \"\"\" Returns the L2 regulation of object vector and predicted vetor\n",
    "        \"\"\"\n",
    "        return T.sum((y - self.outputLayer.output) ** 2)\n"
   ]
  },
  {
   "cell_type": "code",
   "execution_count": 6,
   "metadata": {
    "collapsed": false
   },
   "outputs": [],
   "source": [
    "class MAPPING(object):\n",
    "    \"\"\" Returns the mapping function \n",
    "    X: np.array --> n_samples x n_features\n",
    "    Y: np.array --> n_samples x n_features\n",
    "    lam: penalization for weights\n",
    "    beta: weight for sparsity penalization\n",
    "    sparsity_param: desired average activation of the hidden units\n",
    "    \"\"\"\n",
    "    def __init__(self,learning_rate = 0.01, n_epochs = 1000, batch_size = 20, \n",
    "                 n_hidden = 200, lam = 1e-4, beta = 0.5, sparsity_param = 0.05):\n",
    "        self.learning_rate = learning_rate\n",
    "        self.n_epochs = n_epochs\n",
    "        self.batch_size = batch_size\n",
    "        self.n_hidden = n_hidden\n",
    "        self.lam = lam\n",
    "        self.beta = beta\n",
    "        self.sparsity_param = sparsity_param\n",
    "        self.W1  = None\n",
    "        self.W2 = None\n",
    "        self.b1 = None\n",
    "        self.b2 = None\n",
    "        self.x_mean = None\n",
    "        self.x_std = None\n",
    "        self.y_mean = None\n",
    "        self.y_std = None\n",
    "        self.gradients = None\n",
    "        self.L2 = None\n",
    "        self.sparsity = None\n",
    "        self.reg = None\n",
    "        \n",
    "    \n",
    "    def fit(self,train_X,train_Y, validate_X = None, validate_Y = None, test_X = None, test_Y = None, debug = False):\n",
    "        \"\"\"\n",
    "        debug: If true, in debug mode\n",
    "        \"\"\"\n",
    "        \n",
    "        #self.x_mean = train_X.mean()\n",
    "        #self.x_std = train_X.std()\n",
    "        #self.y_mean = train_Y.mean()\n",
    "        #self.y_std = train_Y.std()\n",
    "        #train_X = (train_X - self.x_mean) / self.x_std\n",
    "        #train_Y = (train_Y - self.y_mean) / self.y_std\n",
    "        shared_train_X = theano.shared(np.asarray(train_X, dtype = theano.config.floatX))\n",
    "        shared_train_Y = theano.shared(np.asarray(train_Y, dtype = theano.config.floatX))\n",
    "        n_train_batches = train_X.shape[0] / self.batch_size\n",
    "        \n",
    "        if valid_X != None and valid_Y != None:\n",
    "            n_valid_batches = validate_X.shape[0] / self.batch_size\n",
    "            #validate_X = (validate_X - self.x_mean) / self.x_std\n",
    "            #validate_Y = (validate_Y - self.y_mean) / self.y_std\n",
    "            shared_validate_X = theano.shared(np.asarray(validate_X, dtype = theano.config.floatX))\n",
    "            shared_validate_Y = theano.shared(np.asarray(validate_Y, dtype = theano.config.floatX))\n",
    "            \n",
    "        \n",
    "        ### Build model ###\n",
    "        print \"... building the model...\"\n",
    "\n",
    "        # allocate symbolic variables for the data\n",
    "        index = T.lscalar() # index for a mini batch\n",
    "        x = T.dmatrix('x')\n",
    "        y = T.dmatrix('y')\n",
    "\n",
    "        rng = np.random.RandomState(1234)\n",
    "\n",
    "        # construct MAP class\n",
    "        f_mapping = MAP(\n",
    "            rng = rng,\n",
    "            input = x,\n",
    "            n_in = train_X.shape[1],\n",
    "            n_hidden = self.n_hidden,\n",
    "            n_out = train_Y.shape[1]\n",
    "            )\n",
    "        \n",
    "        self.W1 = f_mapping.hiddenLayer.W.get_value()\n",
    "        self.b1 = f_mapping.hiddenLayer.b.get_value()\n",
    "        self.W2 = f_mapping.outputLayer.W.get_value()\n",
    "        self.b2 = f_mapping.outputLayer.b.get_value()\n",
    "        \n",
    "\n",
    "        ### Cost function ########################################################\n",
    "        hidden_output = f_mapping.hiddenLayer.output\n",
    "        rho_hat = (T.sum(hidden_output, axis = 0) / train_X.shape[0] + 1) / 2 ## rescale to [0,1]\n",
    "        L2 = f_mapping.L2_regulation(y)/ self.batch_size * 0.5 # penalization for vector\n",
    "        reg = 0.5 * self.lam * (T.sum(f_mapping.hiddenLayer.W ** 2) + T.sum(f_mapping.hiddenLayer.b **2) + \n",
    "                                T.sum(f_mapping.outputLayer.W ** 2) + T.sum(f_mapping.outputLayer.b ** 2))\n",
    "        sparsity = self.beta * T.sum(self.sparsity_param * T.log(self.sparsity_param / rho_hat + 1e-6) + \n",
    "                                     (1. - self.sparsity_param) * T.log((1. - self.sparsity_param + 1e-6) / ( 1. - rho_hat)))\n",
    "        cost = L2  + reg + sparsity\n",
    "        \n",
    "        \n",
    "        \n",
    "\n",
    "        # compute the gradient of the cost wrt to parameters\n",
    "        gparams = [T.grad(cost,param) for param in f_mapping.params]\n",
    "        \n",
    "\n",
    "        # specify how to update parameters\n",
    "        updates = [\n",
    "            (param, param - self.learning_rate * gparam)\n",
    "            for param, gparam in zip(f_mapping.params, gparams)\n",
    "            ]\n",
    "        \n",
    "        train_model = theano.function(\n",
    "                inputs = [index],\n",
    "                outputs = [cost,L2, reg, sparsity, rho_hat],\n",
    "                updates = updates,\n",
    "                givens={\n",
    "                    x: shared_train_X[index * self.batch_size: (index + 1) * self.batch_size],\n",
    "                    y: shared_train_Y[index * self.batch_size: (index + 1) * self.batch_size]\n",
    "                    }\n",
    "                )\n",
    "        \n",
    "\n",
    "        \n",
    "        if validate_X != None and validate_Y != None:\n",
    "            validate_model = theano.function(\n",
    "                inputs = [],\n",
    "                outputs = f_mapping.L2_regulation(y),\n",
    "                givens = {\n",
    "                    x: shared_validate_X,\n",
    "                    y: shared_validate_Y,\n",
    "                    }\n",
    "                )\n",
    "\n",
    "        \n",
    "        \n",
    "        ## function to train the parameters\n",
    "        if debug:\n",
    "            ## store intermediate values\n",
    "            \n",
    "            \n",
    "            initialization = theano.function(\n",
    "                inputs = [index],\n",
    "                outputs = [cost,L2, reg, sparsity],\n",
    "                givens={\n",
    "                    x: shared_train_X[index * self.batch_size: (index + 1) * self.batch_size],\n",
    "                    y: shared_train_Y[index * self.batch_size: (index + 1) * self.batch_size]\n",
    "                    }\n",
    "                )\n",
    "            \n",
    "            train_gparams = theano.function(\n",
    "                inputs = [index],\n",
    "                outputs = gparams,\n",
    "                givens={\n",
    "                    x: shared_train_X[index * self.batch_size: (index + 1) * self.batch_size],\n",
    "                    y: shared_train_Y[index * self.batch_size: (index + 1) * self.batch_size]\n",
    "                    }\n",
    "                )\n",
    "            \n",
    "        \n",
    "            \n",
    "           \n",
    "\n",
    "        ################### \n",
    "        #train the model\n",
    "        ###################\n",
    "        print \"..training the model...\"\n",
    "        \n",
    "        if validate_X != None and validate_Y != None:\n",
    "            patience = 7000\n",
    "            patience_increase = 2\n",
    "            improvement_threshold = 0.9995\n",
    "            validation_frequency = min(n_train_batches, patience / 2)\n",
    "            best_validation_loss = np.inf\n",
    "            done_looping = False\n",
    "        else:\n",
    "            min_cost = np.inf\n",
    "        best_W1 = f_mapping.hiddenLayer.W.get_value()\n",
    "        best_b1 = f_mapping.hiddenLayer.b.get_value()\n",
    "        best_W2 = f_mapping.outputLayer.W.get_value()\n",
    "        bset_b2 = f_mapping.outputLayer.b.get_value()\n",
    "        \n",
    "        \n",
    "        start_time = time.clock()\n",
    "        epoch = 0\n",
    "        \n",
    "        if debug:\n",
    "            initial_values = np.zeros((n_train_batches,4))\n",
    "            for i in xrange(n_train_batches):\n",
    "                initial_values[i] = initialization(i)\n",
    "            self.gradients = [train_gparams(i) for i in xrange(n_train_batches)]\n",
    "            self.cost = initial_values[:,0]\n",
    "            self.L2 = initial_values[:,1]\n",
    "            self.reg = initial_values[:,2]\n",
    "            self.sparsity =  initial_values[:,3]\n",
    "\n",
    "\n",
    "        while (epoch < self.n_epochs) and (not done_looping):\n",
    "            ## shuffle train_X, train_Y\n",
    "            train_X, train_Y = shuffle(train_X, train_Y)\n",
    "            shared_train_X = theano.shared(np.asarray(train_X, dtype = theano.config.floatX))\n",
    "            shared_train_Y = theano.shared(np.asarray(train_Y, dtype = theano.config.floatX))\n",
    "            \n",
    "            train_X, train_Y = shuffle(train_X, train_Y)\n",
    "            epoch += 1\n",
    "            minibatch_avg_cost = []\n",
    "            minibatch_avg_L2 = []\n",
    "            minibatch_avg_reg = []\n",
    "            minibatch_avg_sparisity = []\n",
    "            for minibatch_index in xrange(n_train_batches):\n",
    "                tmp_out = train_model(minibatch_index)\n",
    "                minibatch_avg_cost.append(tmp_out[0])\n",
    "                minibatch_avg_L2.append(tmp_out[1])\n",
    "                minibatch_avg_reg.append(tmp_out[2])\n",
    "                minibatch_avg_sparisity.append(tmp_out[3])\n",
    "                if debug:\n",
    "                    self.gradients = train_gparams(minibatch_index)\n",
    "                    \n",
    "                iter = (epoch - 1) * n_train_batches + minibatch_index\n",
    "\n",
    "                \n",
    "                if validate_X != None and validate_Y != None:\n",
    "                    if (iter + 1) % validation_frequency == 0:\n",
    "                        this_validation_loss = np.sqrt(validate_model() / validate_X.shape[0])\n",
    "\n",
    "\n",
    "                        print(\n",
    "                            'epoch %i, minibatch %i/%i, validation error %f'%\n",
    "                            (\n",
    "                                epoch,\n",
    "                                minibatch_index + 1,\n",
    "                                n_train_batches,\n",
    "                                this_validation_loss\n",
    "                                )\n",
    "                            )\n",
    "                        \n",
    "                        if debug:\n",
    "                            print(\n",
    "                                'epoch %i,minibatch %i/%i, cost, %f, L2 %f, reg %f, sparsity %f'%\n",
    "                                (epoch,\n",
    "                                 minibatch_index + 1,\n",
    "                                 n_train_batches,\n",
    "                                 np.average(minibatch_avg_cost),\n",
    "                                 np.average(minibatch_avg_L2),\n",
    "                                 np.average(minibatch_avg_reg),\n",
    "                                 np.average(minibatch_avg_sparisity)\n",
    "                                )\n",
    "                                )\n",
    "                            self.cost = minibatch_avg_cost\n",
    "                            self.L2 = minibatch_avg_L2\n",
    "                            self.reg = minibatch_avg_reg\n",
    "\n",
    "\n",
    "                    \n",
    "                    \n",
    "                        if this_validation_loss < best_validation_loss:\n",
    "                            self.best_W1 = f_mapping.hiddenLayer.W.get_value()\n",
    "                            self.best_b1 = f_mapping.hiddenLayer.b.get_value()\n",
    "                            self.best_W2 = f_mapping.outputLayer.W.get_value()\n",
    "                            self.best_b2 = f_mapping.outputLayer.b.get_value()\n",
    "                            self.best_validation_loss = this_validation_loss\n",
    "                            \n",
    "                            if this_validation_loss < best_validation_loss * improvement_threshold:\n",
    "                                patience = max(patience, iter * patience_increase)\n",
    "                            \n",
    "                            best_validation_loss = this_validation_loss\n",
    "\n",
    "                        \n",
    "                        if patience <= iter:\n",
    "                            done_looping = True\n",
    "                            break\n",
    "\n",
    "            \n",
    " \n",
    "                \n",
    "            \n",
    "        self.W1 = self.best_W1\n",
    "        self.W2 = self.best_W2\n",
    "        self.b1 = self.best_b1\n",
    "        self.b2 = self.best_b2\n",
    "                            \n",
    "        \n",
    "    \n",
    "    def transfrom(self,X):\n",
    "        \"\"\"\n",
    "        X: n_sample x n_features\n",
    "        \"\"\"\n",
    "        #X = (X - self.x_mean)/self.x_std\n",
    "        Y = np.dot(np.tanh(np.dot(X,self.W1) + self.b1 ), self.W2 ) + self.b2\n",
    "        return Y\n",
    "        #return Y * self.y_std + self.y_mean"
   ]
  },
  {
   "cell_type": "raw",
   "metadata": {
    "collapsed": false
   },
   "source": [
    "\n",
    "with open(\"../data/cifar-10-batches-py/X_fc7_cudanet_out\",\"r\") as f:\n",
    "    X = cPickle.load(f)"
   ]
  },
  {
   "cell_type": "raw",
   "metadata": {
    "collapsed": true
   },
   "source": [
    "with open(\"../data/cifar-10-batches-py/Y_100\",\"r\") as f:\n",
    "    Y = cPickle.load(f)"
   ]
  },
  {
   "cell_type": "raw",
   "metadata": {},
   "source": [
    "import pandas as pd\n",
    "store = pd.HDFStore(\"../data/cifa_XY.hd5\")\n",
    "store['X'] = pd.DataFrame(X)\n",
    "store['Y'] = pd.DataFrame(Y)\n",
    "\n",
    "store.close()"
   ]
  },
  {
   "cell_type": "code",
   "execution_count": 13,
   "metadata": {
    "collapsed": false
   },
   "outputs": [],
   "source": [
    "store = pd.HDFStore(\"../data/cifa_XY.hd5\")\n",
    "X = store['X'].values\n",
    "Y = store['Y'].values\n",
    "store.close()"
   ]
  },
  {
   "cell_type": "code",
   "execution_count": 14,
   "metadata": {
    "collapsed": false
   },
   "outputs": [
    {
     "name": "stdout",
     "output_type": "stream",
     "text": [
      "(57000, 4096)\n",
      "(57000, 100)\n",
      "(3000, 4096)\n",
      "(3000, 100)\n"
     ]
    }
   ],
   "source": [
    "from sklearn.cross_validation import train_test_split\n",
    "tmp_X,test_X, tmp_Y, test_Y = train_test_split(X,np.array(Y),test_size = 0.05)\n",
    "print tmp_X.shape\n",
    "print tmp_Y.shape\n",
    "print test_X.shape\n",
    "print test_Y.shape"
   ]
  },
  {
   "cell_type": "code",
   "execution_count": 15,
   "metadata": {
    "collapsed": false
   },
   "outputs": [],
   "source": [
    "from sklearn.cross_validation import train_test_split\n",
    "train_X,valid_X, train_Y, valid_Y = train_test_split(tmp_X, tmp_Y,\n",
    "                                                     test_size = 0.2)"
   ]
  },
  {
   "cell_type": "code",
   "execution_count": 16,
   "metadata": {
    "collapsed": false
   },
   "outputs": [
    {
     "name": "stdout",
     "output_type": "stream",
     "text": [
      "(45600, 4096)\n",
      "(45600, 100)\n",
      "(11400, 4096)\n",
      "(11400, 100)\n"
     ]
    }
   ],
   "source": [
    "print train_X.shape\n",
    "print train_Y.shape\n",
    "print valid_X.shape\n",
    "print valid_Y.shape"
   ]
  },
  {
   "cell_type": "code",
   "execution_count": 17,
   "metadata": {
    "collapsed": false
   },
   "outputs": [
    {
     "name": "stdout",
     "output_type": "stream",
     "text": [
      "(45600, 4096)\n",
      "(45600, 100)\n",
      "(11400, 4096)\n",
      "(11400, 100)\n"
     ]
    }
   ],
   "source": [
    "from sklearn.preprocessing import StandardScaler\n",
    "ss_X = StandardScaler()\n",
    "ss_Y = StandardScaler()\n",
    "ss_X.fit(train_X)\n",
    "ss_Y.fit(train_Y)\n",
    "train_X, valid_X = ss_X.transform(train_X), ss_X.transform(valid_X)\n",
    "train_Y, valid_Y = ss_Y.transform(train_Y), ss_Y.transform(valid_Y)\n",
    "print train_X.shape\n",
    "print train_Y.shape\n",
    "print valid_X.shape\n",
    "print valid_Y.shape"
   ]
  },
  {
   "cell_type": "code",
   "execution_count": 43,
   "metadata": {
    "collapsed": false,
    "scrolled": false
   },
   "outputs": [
    {
     "name": "stdout",
     "output_type": "stream",
     "text": [
      "... building the model...\n",
      "..training the model...\n",
      "epoch 1, minibatch 912/912, validation error 6.436697\n",
      "epoch 1,minibatch 912/912, cost, 519.584004, L2 24.929279, reg 0.024084, sparsity 494.630641\n",
      "epoch 2, minibatch 912/912, validation error 6.102990\n",
      "epoch 2,minibatch 912/912, cost, 513.587556, L2 18.938922, reg 0.023533, sparsity 494.625101\n",
      "epoch 3, minibatch 912/912, validation error 5.936176\n",
      "epoch 3,minibatch 912/912, cost, 511.664594, L2 17.019233, reg 0.024084, sparsity 494.621277\n",
      "epoch 4, minibatch 912/912, validation error 5.836351\n",
      "epoch 4,minibatch 912/912, cost, 510.449611, L2 15.806045, reg 0.025088, sparsity 494.618479\n",
      "epoch 5, minibatch 912/912, validation error 5.779192\n",
      "epoch 5,minibatch 912/912, cost, 509.571295, L2 14.928527, reg 0.026359, sparsity 494.616409\n",
      "epoch 6, minibatch 912/912, validation error 5.738256\n",
      "epoch 6,minibatch 912/912, cost, 508.886342, L2 14.243487, reg 0.027799, sparsity 494.615056\n",
      "epoch 7, minibatch 912/912, validation error 5.724776\n",
      "epoch 7,minibatch 912/912, cost, 508.338574, L2 13.695264, reg 0.029342, sparsity 494.613969\n",
      "epoch 8, minibatch 912/912, validation error 5.710404\n",
      "epoch 8,minibatch 912/912, cost, 507.867800, L2 13.223450, reg 0.030950, sparsity 494.613401\n",
      "epoch 9, minibatch 912/912, validation error 5.706348\n",
      "epoch 9,minibatch 912/912, cost, 507.465245, L2 12.819766, reg 0.032596, sparsity 494.612883\n",
      "epoch 10, minibatch 912/912, validation error 5.706008\n",
      "epoch 10,minibatch 912/912, cost, 507.106089, L2 12.459419, reg 0.034267, sparsity 494.612403\n",
      "epoch 11, minibatch 912/912, validation error 5.704894\n",
      "epoch 11,minibatch 912/912, cost, 506.778060, L2 12.130142, reg 0.035958, sparsity 494.611959\n",
      "epoch 12, minibatch 912/912, validation error 5.711598\n",
      "epoch 12,minibatch 912/912, cost, 506.481094, L2 11.831914, reg 0.037661, sparsity 494.611520\n",
      "epoch 13, minibatch 912/912, validation error 5.722156\n",
      "epoch 13,minibatch 912/912, cost, 506.201248, L2 11.550714, reg 0.039371, sparsity 494.611163\n",
      "epoch 14, minibatch 912/912, validation error 5.727882\n",
      "epoch 14,minibatch 912/912, cost, 505.937171, L2 11.285216, reg 0.041091, sparsity 494.610864\n",
      "epoch 15, minibatch 912/912, validation error 5.733290\n",
      "epoch 15,minibatch 912/912, cost, 505.692288, L2 11.038867, reg 0.042814, sparsity 494.610607\n",
      "epoch 16, minibatch 912/912, validation error 5.744006\n",
      "epoch 16,minibatch 912/912, cost, 505.460507, L2 10.805683, reg 0.044536, sparsity 494.610288\n",
      "epoch 17, minibatch 912/912, validation error 5.750929\n",
      "epoch 17,minibatch 912/912, cost, 505.239116, L2 10.582849, reg 0.046256, sparsity 494.610011\n",
      "epoch 18, minibatch 912/912, validation error 5.761321\n",
      "epoch 18,minibatch 912/912, cost, 505.032446, L2 10.374689, reg 0.047971, sparsity 494.609786\n",
      "CPU times: user 1h 40min 28s, sys: 1h 45min 34s, total: 3h 26min 2s\n",
      "Wall time: 8min 31s\n"
     ]
    }
   ],
   "source": [
    "mapping = MAPPING(n_hidden = 200, n_epochs = 500, batch_size = 50, learning_rate=0.005, lam=1e-4, sparsity_param=0.05,\n",
    "                 beta = 5)\n",
    "%time mapping.fit(train_X,train_Y, validate_X = valid_X, validate_Y = valid_Y, test_X = test_X, test_Y= test_Y, debug = True)"
   ]
  },
  {
   "cell_type": "code",
   "execution_count": 49,
   "metadata": {
    "collapsed": false
   },
   "outputs": [
    {
     "data": {
      "text/plain": [
       "5.7048940267523296"
      ]
     },
     "execution_count": 49,
     "metadata": {},
     "output_type": "execute_result"
    }
   ],
   "source": [
    "mapping.best_validation_loss"
   ]
  },
  {
   "cell_type": "raw",
   "metadata": {
    "collapsed": true
   },
   "source": [
    "x_y_params = {}\n",
    "x_y_params['x_mean'] = mapping.x_mean\n",
    "x_y_params['x_std'] = mapping.x_std\n",
    "x_y_params['y_mean'] = mapping.y_mean\n",
    "x_y_params['y_std'] = mapping.y_std"
   ]
  },
  {
   "cell_type": "raw",
   "metadata": {
    "collapsed": false
   },
   "source": [
    "print x_y_params"
   ]
  },
  {
   "cell_type": "raw",
   "metadata": {
    "collapsed": false
   },
   "source": [
    "with open(\"query/nn_model/W1\",\"wb\") as f:\n",
    "    cPickle.dump(mapping.W1,f)\n",
    "with open(\"query/nn_model/W2\",\"wb\") as f:\n",
    "    cPickle.dump(mapping.W2,f)\n",
    "with open(\"query/nn_model/b1\",\"wb\") as f:\n",
    "    cPickle.dump(mapping.b1,f)\n",
    "with open(\"query/nn_model/b2\",\"wb\") as f:\n",
    "    cPickle.dump(mapping.b2,f)\n",
    "with open(\"query/nn_model/params\",\"wb\") as f:\n",
    "    cPickle.dump(x_y_params,f)"
   ]
  },
  {
   "cell_type": "code",
   "execution_count": 50,
   "metadata": {
    "collapsed": false
   },
   "outputs": [],
   "source": [
    "import cPickle\n",
    "\n",
    "W1 = theano.shared(mapping.best_W1, name='W1', borrow = True)\n",
    "W2 = theano.shared(mapping.best_W2, name='W2', borrow = True)\n",
    "b1 = theano.shared(mapping.best_b1, name='b1', borrow = True)\n",
    "b2 = theano.shared(mapping.best_b2, name='b2', borrow = True)\n",
    "X = T.dvector(name='X')\n",
    "Y = (T.dot(T.tanh(T.dot((X - ss_X.mean_)*1./ss_X.std_,W1) + b1),W2) + b2) * ss_Y.std_ + ss_Y.mean_\n",
    "nn = theano.function([X],outputs = Y)"
   ]
  },
  {
   "cell_type": "code",
   "execution_count": 51,
   "metadata": {
    "collapsed": false
   },
   "outputs": [],
   "source": [
    "cPickle.dump(nn, open(\"../query/img2txt.pkl\", \"w\"))"
   ]
  },
  {
   "cell_type": "code",
   "execution_count": 52,
   "metadata": {
    "collapsed": false
   },
   "outputs": [],
   "source": [
    "img2txt_model = cPickle.load(open(\"../query/img2txt.pkl\", \"r\"))"
   ]
  },
  {
   "cell_type": "code",
   "execution_count": 53,
   "metadata": {
    "collapsed": false
   },
   "outputs": [
    {
     "data": {
      "text/plain": [
       "0.12500292765668447"
      ]
     },
     "execution_count": 53,
     "metadata": {},
     "output_type": "execute_result"
    }
   ],
   "source": [
    "np.linalg.norm(img2txt_model(test_X[0,:]) - test_Y[0,:])"
   ]
  },
  {
   "cell_type": "code",
   "execution_count": null,
   "metadata": {
    "collapsed": true
   },
   "outputs": [],
   "source": []
  },
  {
   "cell_type": "code",
   "execution_count": 6,
   "metadata": {
    "collapsed": false
   },
   "outputs": [
    {
     "name": "stdout",
     "output_type": "stream",
     "text": [
      "CPU times: user 1.05 ms, sys: 42 µs, total: 1.09 ms\n",
      "Wall time: 1.1 ms\n"
     ]
    }
   ],
   "source": [
    "with open(\"/home/ce-ruoxu/workspace/data-fusion/data/cifar-10-batches-py/labels_vectors\",\"r\") as f:\n",
    "    %time label_vec = cPickle.load(f)"
   ]
  },
  {
   "cell_type": "code",
   "execution_count": 126,
   "metadata": {
    "collapsed": false
   },
   "outputs": [],
   "source": [
    "sim_cosine_train = np.zeros((train_y_pred.shape[0],label_vec.shape[0]))\n",
    "for i in xrange(train_y_pred.shape[0]):\n",
    "    for j in xrange(label_vec.shape[0]):\n",
    "        sim_cosine_train[i,j] = np.dot(train_y_pred[i],label_vec[j])/np.sqrt((train_y_pred[i]**2).sum())/np.sqrt((label_vec[j]**2).sum())"
   ]
  },
  {
   "cell_type": "code",
   "execution_count": 127,
   "metadata": {
    "collapsed": true
   },
   "outputs": [],
   "source": [
    "sim_cosine = np.zeros((y_pred.shape[0],label_vec.shape[0]))\n",
    "for i in xrange(y_pred.shape[0]):\n",
    "    for j in xrange(label_vec.shape[0]):\n",
    "        sim_cosine[i,j] = np.dot(y_pred[i],label_vec[j])/np.sqrt((y_pred[i]**2).sum())/np.sqrt((label_vec[j]**2).sum())"
   ]
  },
  {
   "cell_type": "code",
   "execution_count": 128,
   "metadata": {
    "collapsed": false
   },
   "outputs": [],
   "source": [
    "train_pred = np.argsort(sim_cosine)[:,-1]"
   ]
  },
  {
   "cell_type": "code",
   "execution_count": 129,
   "metadata": {
    "collapsed": false
   },
   "outputs": [
    {
     "data": {
      "text/plain": [
       "(10, 100)"
      ]
     },
     "execution_count": 129,
     "metadata": {},
     "output_type": "execute_result"
    }
   ],
   "source": [
    "label_vec.shape"
   ]
  },
  {
   "cell_type": "code",
   "execution_count": null,
   "metadata": {
    "collapsed": false
   },
   "outputs": [],
   "source": []
  },
  {
   "cell_type": "markdown",
   "metadata": {},
   "source": [
    "# Evaluation"
   ]
  },
  {
   "cell_type": "code",
   "execution_count": 130,
   "metadata": {
    "collapsed": false
   },
   "outputs": [
    {
     "name": "stdout",
     "output_type": "stream",
     "text": [
      "Counter({3: 4550, 7: 574, 2: 362, 6: 215, 4: 201, 9: 42, 8: 29, 0: 21, 1: 6})\n"
     ]
    }
   ],
   "source": [
    "## number of predict classes\n",
    "from collections import Counter\n",
    "print Counter(np.argsort(sim_cosine)[:,-1])"
   ]
  },
  {
   "cell_type": "code",
   "execution_count": 131,
   "metadata": {
    "collapsed": false
   },
   "outputs": [
    {
     "data": {
      "text/plain": [
       "<matplotlib.text.Text at 0x7f2595032ed0>"
      ]
     },
     "execution_count": 131,
     "metadata": {},
     "output_type": "execute_result"
    },
    {
     "data": {
      "image/png": "[encoded data removed]",
      "text/plain": [
       "<matplotlib.figure.Figure at 0x7f2594ea2610>"
      ]
     },
     "metadata": {},
     "output_type": "display_data"
    }
   ],
   "source": [
    "import matplotlib.pylab as pl\n",
    "%matplotlib inline\n",
    "rank = 10 - np.where(np.argsort(sim_cosine) == 5)[1]\n",
    "pl.hist(rank,bins=10)\n",
    "pl.title('rank of dog label for dog images')"
   ]
  },
  {
   "cell_type": "code",
   "execution_count": 132,
   "metadata": {
    "collapsed": false
   },
   "outputs": [
    {
     "data": {
      "text/plain": [
       "<matplotlib.text.Text at 0x7f255eb72ed0>"
      ]
     },
     "execution_count": 132,
     "metadata": {},
     "output_type": "execute_result"
    },
    {
     "data": {
      "image/png": "[encoded data removed]",
      "text/plain": [
       "<matplotlib.figure.Figure at 0x7f25933db910>"
      ]
     },
     "metadata": {},
     "output_type": "display_data"
    }
   ],
   "source": [
    "import matplotlib.pylab as pl\n",
    "%matplotlib inline\n",
    "pl.hist(sim_cosine[np.where(np.argsort(sim_cosine) == 5)])\n",
    "pl.title('cosine similarity of dog label to predict label')"
   ]
  },
  {
   "cell_type": "code",
   "execution_count": 133,
   "metadata": {
    "collapsed": true
   },
   "outputs": [],
   "source": [
    "cosine_dog = np.zeros((train_x.shape[0] + test_x.shape[0],))\n",
    "tmp = np.concatenate((train_y_pred, y_pred))\n",
    "for i in xrange(cosine_dog.shape[0]):\n",
    "    cosine_dog[i] = np.dot(label_vec[5],tmp[i])/np.sqrt((label_vec[5]**2).sum())/np.sqrt((tmp[i]**2).sum())"
   ]
  },
  {
   "cell_type": "code",
   "execution_count": 14,
   "metadata": {
    "collapsed": false
   },
   "outputs": [],
   "source": [
    "with open(\"/home/ce-ruoxu/workspace/data-fusion/data/cifar-10-batches-py/batches.meta\",\"r\") as f:\n",
    "    meta = cPickle.load(f)"
   ]
  },
  {
   "cell_type": "code",
   "execution_count": 15,
   "metadata": {
    "collapsed": false
   },
   "outputs": [
    {
     "name": "stdout",
     "output_type": "stream",
     "text": [
      "0 airplane\n",
      "1 automobile\n",
      "2 bird\n",
      "3 cat\n",
      "4 deer\n",
      "5 dog\n",
      "6 frog\n",
      "7 horse\n",
      "8 ship\n",
      "9 truck\n"
     ]
    }
   ],
   "source": [
    "j = 0\n",
    "info = []\n",
    "for i in meta[\"label_names\"]:\n",
    "    print j, i\n",
    "    info.append((j,i))\n",
    "    j+= 1"
   ]
  },
  {
   "cell_type": "code",
   "execution_count": 7,
   "metadata": {
    "collapsed": true
   },
   "outputs": [],
   "source": [
    "labels = np.zeros((train_y.shape[0],))\n",
    "for i in xrange(train_y.shape[0]):\n",
    "    for j in xrange(label_vec.shape[0]):\n",
    "        if (label_vec[j] == train_y[i]).all():\n",
    "            labels[i] = j\n",
    "            pass"
   ]
  },
  {
   "cell_type": "code",
   "execution_count": 138,
   "metadata": {
    "collapsed": false,
    "scrolled": true
   },
   "outputs": [
    {
     "name": "stdout",
     "output_type": "stream",
     "text": [
      "dog\n",
      "horse\n",
      "cat\n",
      "dog\n",
      "dog\n",
      "dog\n",
      "dog\n",
      "dog\n",
      "cat\n",
      "cat\n",
      "truck\n",
      "cat\n",
      "cat\n",
      "cat\n",
      "dog\n",
      "dog\n",
      "dog\n",
      "cat\n",
      "dog\n",
      "dog\n",
      "dog\n",
      "horse\n",
      "dog\n",
      "dog\n",
      "dog\n",
      "cat\n",
      "cat\n",
      "dog\n",
      "cat\n",
      "cat\n",
      "dog\n",
      "dog\n",
      "cat\n",
      "horse\n",
      "cat\n",
      "horse\n",
      "dog\n",
      "dog\n",
      "cat\n",
      "cat\n",
      "dog\n",
      "dog\n",
      "cat\n",
      "cat\n",
      "cat\n",
      "dog\n",
      "dog\n",
      "dog\n",
      "deer\n",
      "cat\n",
      "horse\n",
      "dog\n",
      "dog\n",
      "dog\n",
      "dog\n",
      "cat\n",
      "dog\n",
      "dog\n",
      "cat\n",
      "dog\n",
      "dog\n",
      "dog\n",
      "deer\n",
      "dog\n",
      "dog\n",
      "dog\n",
      "bird\n",
      "cat\n",
      "deer\n",
      "deer\n",
      "cat\n",
      "cat\n",
      "dog\n",
      "dog\n",
      "dog\n",
      "cat\n",
      "horse\n",
      "cat\n",
      "dog\n",
      "horse\n",
      "dog\n",
      "frog\n",
      "dog\n",
      "cat\n",
      "cat\n",
      "dog\n",
      "cat\n",
      "cat\n",
      "cat\n",
      "dog\n",
      "horse\n",
      "dog\n",
      "dog\n",
      "deer\n",
      "dog\n",
      "deer\n",
      "deer\n",
      "deer\n",
      "dog\n",
      "horse\n",
      "cat\n",
      "dog\n",
      "cat\n",
      "cat\n",
      "cat\n",
      "cat\n",
      "dog\n",
      "deer\n",
      "dog\n",
      "dog\n",
      "dog\n",
      "cat\n",
      "cat\n",
      "cat\n",
      "cat\n",
      "dog\n",
      "dog\n",
      "cat\n",
      "dog\n",
      "horse\n",
      "cat\n",
      "dog\n",
      "dog\n",
      "dog\n",
      "deer\n",
      "dog\n",
      "cat\n",
      "deer\n",
      "bird\n",
      "airplane\n",
      "dog\n",
      "deer\n",
      "cat\n",
      "deer\n",
      "dog\n",
      "dog\n",
      "dog\n",
      "horse\n",
      "cat\n",
      "cat\n",
      "cat\n",
      "dog\n",
      "cat\n",
      "dog\n",
      "cat\n",
      "cat\n",
      "dog\n",
      "cat\n",
      "dog\n",
      "dog\n",
      "bird\n",
      "deer\n",
      "horse\n",
      "dog\n",
      "horse\n",
      "horse\n",
      "cat\n",
      "cat\n",
      "dog\n",
      "horse\n",
      "dog\n",
      "dog\n",
      "deer\n",
      "deer\n",
      "horse\n",
      "cat\n",
      "deer\n",
      "cat\n",
      "dog\n",
      "dog\n",
      "cat\n",
      "bird\n",
      "cat\n",
      "cat\n",
      "cat\n",
      "dog\n",
      "deer\n",
      "cat\n",
      "dog\n",
      "cat\n",
      "dog\n",
      "dog\n",
      "cat\n",
      "cat\n",
      "truck\n",
      "deer\n",
      "cat\n",
      "dog\n",
      "horse\n",
      "dog\n",
      "dog\n",
      "cat\n",
      "dog\n",
      "dog\n",
      "cat\n",
      "cat\n",
      "dog\n",
      "cat\n",
      "dog\n",
      "cat\n"
     ]
    }
   ],
   "source": [
    "for i in np.argsort(cosine_dog)[::-1][:200]:\n",
    "    if i > train_x.shape[0] - 1:\n",
    "        print 'dog'\n",
    "    else:\n",
    "        j = int(labels[i])\n",
    "        print info[j][1]"
   ]
  },
  {
   "cell_type": "markdown",
   "metadata": {
    "collapsed": false
   },
   "source": [
    "## using im2tex"
   ]
  },
  {
   "cell_type": "code",
   "execution_count": 141,
   "metadata": {
    "collapsed": true
   },
   "outputs": [],
   "source": [
    "with open(\"/home/ce-ruoxu/workspace/data-fusion/data/im2text/features\",\"r\") as f:\n",
    "    im2text_x = cPickle.load(f)"
   ]
  },
  {
   "cell_type": "code",
   "execution_count": 143,
   "metadata": {
    "collapsed": false
   },
   "outputs": [],
   "source": [
    "with open(\"/home/ce-ruoxu/workspace/data-fusion/data/im2text/im2text_y\",\"r\") as f:\n",
    "    im2text_y = cPickle.load(f)"
   ]
  },
  {
   "cell_type": "code",
   "execution_count": 145,
   "metadata": {
    "collapsed": true
   },
   "outputs": [],
   "source": [
    "with open(\"/home/ce-ruoxu/workspace/data-fusion/data/im2text/sentences.txt\",\"r\") as f:\n",
    "    sentences = f.readlines()"
   ]
  },
  {
   "cell_type": "code",
   "execution_count": null,
   "metadata": {
    "collapsed": true
   },
   "outputs": [],
   "source": [
    "with open(\"data/cifar-10-batches-py/test_x\",\"r\") as f:\n",
    "    %time test_x = cPickle.load(f)\n",
    "with open(\"data/cifar-10-batches-py/test_y\",\"r\") as f:\n",
    "    %time test_y = cPickle.load(f)\n",
    "#train_x,train_y = test_x, test_y\n",
    "with open(\"data/cifar-10-batches-py/train_x\",\"r\") as f:\n",
    "    %time train_x = cPickle.load(f)\n",
    "with open(\"data/cifar-10-batches-py/train_y\",\"r\") as f:\n",
    "    %time train_y = cPickle.load(f)"
   ]
  },
  {
   "cell_type": "code",
   "execution_count": null,
   "metadata": {
    "collapsed": true
   },
   "outputs": [],
   "source": [
    "from gensim.models import Doc2Vec\n",
    "model = Doc2Vec.load_word2vec_format(\"/home/ce-ruoxu/workspace/data-fusion/data/im2text/phrase_vectors.bin\",binary = True)"
   ]
  },
  {
   "cell_type": "code",
   "execution_count": 215,
   "metadata": {
    "collapsed": true
   },
   "outputs": [],
   "source": [
    "from sklearn.cross_validation import train_test_split\n",
    "train_X,valid_X, train_Y, valid_Y = train_test_split(im2text_x, im2text_y,\n",
    "                                                     test_size = 0.1)"
   ]
  },
  {
   "cell_type": "code",
   "execution_count": 216,
   "metadata": {
    "collapsed": false
   },
   "outputs": [
    {
     "name": "stdout",
     "output_type": "stream",
     "text": [
      "(8310, 4096)\n",
      "(8310, 100)\n",
      "(924, 4096)\n",
      "(924, 100)\n"
     ]
    }
   ],
   "source": [
    "print train_X.shape\n",
    "print train_Y.shape\n",
    "print valid_X.shape\n",
    "print valid_Y.shape"
   ]
  },
  {
   "cell_type": "code",
   "execution_count": 218,
   "metadata": {
    "collapsed": false,
    "scrolled": false
   },
   "outputs": [
    {
     "name": "stdout",
     "output_type": "stream",
     "text": [
      "... building the model...\n",
      "..training the model...\n",
      "epoch 1, minibatch 166/166, validation error 5235.000784\n",
      "epoch 1,minibatch 166/166, train_error 57.017704\n",
      "epoch 1, minibatch 166/166, test error of best model 796321.124771\n",
      "epoch 2, minibatch 166/166, validation error 5162.757076\n",
      "epoch 2,minibatch 166/166, train_error 51.474007\n",
      "epoch 2, minibatch 166/166, test error of best model 796951.298647\n",
      "epoch 3, minibatch 166/166, validation error 5141.903967\n",
      "epoch 3,minibatch 166/166, train_error 49.750883\n",
      "epoch 3, minibatch 166/166, test error of best model 797496.258644\n",
      "epoch 4, minibatch 166/166, validation error 5142.072509\n",
      "epoch 4,minibatch 166/166, train_error 48.641848\n",
      "epoch 5, minibatch 166/166, validation error 5155.156144\n",
      "epoch 5,minibatch 166/166, train_error 47.763960\n",
      "epoch 6, minibatch 166/166, validation error 5171.989272\n",
      "epoch 6,minibatch 166/166, train_error 46.988105\n",
      "epoch 7, minibatch 166/166, validation error 5197.179803\n",
      "epoch 7,minibatch 166/166, train_error 46.256270\n",
      "epoch 8, minibatch 166/166, validation error 5224.326746\n",
      "epoch 8,minibatch 166/166, train_error 45.554797\n",
      "epoch 9, minibatch 166/166, validation error 5254.724918\n",
      "epoch 9,minibatch 166/166, train_error 44.868970\n",
      "epoch 10, minibatch 166/166, validation error 5289.657578\n",
      "epoch 10,minibatch 166/166, train_error 44.200842\n",
      "epoch 11, minibatch 166/166, validation error 5327.565118\n",
      "epoch 11,minibatch 166/166, train_error 43.556810\n",
      "epoch 12, minibatch 166/166, validation error 5368.647760\n",
      "epoch 12,minibatch 166/166, train_error 42.934359\n",
      "epoch 13, minibatch 166/166, validation error 5406.688219\n",
      "epoch 13,minibatch 166/166, train_error 42.352029\n",
      "epoch 14, minibatch 166/166, validation error 5448.021166\n",
      "epoch 14,minibatch 166/166, train_error 41.806012\n",
      "epoch 15, minibatch 166/166, validation error 5487.636854\n",
      "epoch 15,minibatch 166/166, train_error 41.287356\n",
      "epoch 16, minibatch 166/166, validation error 5528.243431\n",
      "epoch 16,minibatch 166/166, train_error 40.799631\n",
      "epoch 17, minibatch 166/166, validation error 5574.981612\n",
      "epoch 17,minibatch 166/166, train_error 40.348476\n",
      "epoch 18, minibatch 166/166, validation error 5610.897269\n",
      "epoch 18,minibatch 166/166, train_error 39.937739\n",
      "epoch 19, minibatch 166/166, validation error 5645.081913\n",
      "epoch 19,minibatch 166/166, train_error 39.557275\n",
      "epoch 20, minibatch 166/166, validation error 5682.897981\n",
      "epoch 20,minibatch 166/166, train_error 39.199696\n",
      "epoch 21, minibatch 166/166, validation error 5726.378249\n",
      "epoch 21,minibatch 166/166, train_error 38.881559\n",
      "epoch 22, minibatch 166/166, validation error 5778.034346\n",
      "epoch 22,minibatch 166/166, train_error 38.666822\n",
      "epoch 23, minibatch 166/166, validation error 5787.704608\n",
      "epoch 23,minibatch 166/166, train_error 38.603544\n",
      "epoch 24, minibatch 166/166, validation error 5822.774336\n",
      "epoch 24,minibatch 166/166, train_error 38.640569\n",
      "epoch 25, minibatch 166/166, validation error 5863.479485\n",
      "epoch 25,minibatch 166/166, train_error 38.605192\n",
      "epoch 26, minibatch 166/166, validation error 5846.758180\n",
      "epoch 26,minibatch 166/166, train_error 38.430204\n",
      "epoch 27, minibatch 166/166, validation error 5833.800916\n",
      "epoch 27,minibatch 166/166, train_error 38.052476\n",
      "epoch 28, minibatch 166/166, validation error 5884.261873\n",
      "epoch 28,minibatch 166/166, train_error 37.749671\n",
      "epoch 29, minibatch 166/166, validation error 5908.106844\n",
      "epoch 29,minibatch 166/166, train_error 37.559900\n",
      "epoch 30, minibatch 166/166, validation error 5870.000152\n",
      "epoch 30,minibatch 166/166, train_error 37.388394\n",
      "epoch 31, minibatch 166/166, validation error 5925.428274\n",
      "epoch 31,minibatch 166/166, train_error 37.115770\n",
      "CPU times: user 20min 10s, sys: 18min 55s, total: 39min 5s\n",
      "Wall time: 2min 25s\n"
     ]
    }
   ],
   "source": [
    "mapping = MAPPING(n_hidden = 200, n_epochs = 100, batch_size = 50, learning_rate=0.01, lam=1e-4, beta = 5)\n",
    "%time mapping.fit(train_X,train_Y, valid_X, valid_Y, np.concatenate((train_x, test_x)), np.concatenate((train_y,test_y)))"
   ]
  },
  {
   "cell_type": "code",
   "execution_count": null,
   "metadata": {
    "collapsed": true
   },
   "outputs": [],
   "source": []
  }
 ],
 "metadata": {
  "kernelspec": {
   "display_name": "Python 2",
   "language": "python",
   "name": "python2"
  },
  "language_info": {
   "codemirror_mode": {
    "name": "ipython",
    "version": 2
   },
   "file_extension": ".py",
   "mimetype": "text/x-python",
   "name": "python",
   "nbconvert_exporter": "python",
   "pygments_lexer": "ipython2",
   "version": "2.7.6"
  }
 },
 "nbformat": 4,
 "nbformat_minor": 0
}
