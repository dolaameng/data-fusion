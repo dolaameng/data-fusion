{
 "cells": [
  {
   "cell_type": "code",
   "execution_count": 1,
   "metadata": {
    "collapsed": false
   },
   "outputs": [
    {
     "name": "stdout",
     "output_type": "stream",
     "text": [
      "Couldn't import dot_parser, loading of dot files will not be possible.\n"
     ]
    }
   ],
   "source": [
    "import theano.tensor as T\n",
    "import theano\n",
    "import numpy as np\n",
    "import time"
   ]
  },
  {
   "cell_type": "code",
   "execution_count": 2,
   "metadata": {
    "collapsed": true
   },
   "outputs": [],
   "source": [
    "from theano.printing import pp"
   ]
  },
  {
   "cell_type": "code",
   "execution_count": 3,
   "metadata": {
    "collapsed": true
   },
   "outputs": [],
   "source": [
    "class HiddenLayer(object):\n",
    "    def __init__(self, rng, input, n_in, n_out, W = None, b = None, activation = T.tanh):\n",
    "        \"\"\"\n",
    "        HIdden layer of MAP\n",
    "        \n",
    "        rng: for random state --> np.random.RandomState\n",
    "        \"\"\"\n",
    "        self.input = input\n",
    "        if W is None:\n",
    "            W_values = np.asarray(\n",
    "                rng.uniform(\n",
    "                    low = - np.sqrt(6. / (n_in + n_out)),\n",
    "                    high = np.sqrt(6. / (n_in + n_out)),\n",
    "                    size = (n_in, n_out)\n",
    "                    ),\n",
    "                dtype = theano.config.floatX\n",
    "                )\n",
    "            if activation == theano.tensor.nnet.sigmoid:\n",
    "                W_values *= 4.\n",
    "            \n",
    "            W1 = theano.shared(W_values, name='W1', borrow = True)\n",
    "        \n",
    "        if b is None:\n",
    "            b_values = np.zeros((n_out,), dtype=theano.config.floatX)\n",
    "            b1 = theano.shared(value=b_values, name='b1', borrow=True)\n",
    "            \n",
    "        self.W = W1\n",
    "        self.b = b1\n",
    "            \n",
    "        lin_output = T.dot(input,self.W) + self.b\n",
    "        self.output = (\n",
    "            lin_output if activation is None\n",
    "            else activation(lin_output)\n",
    "            )\n",
    "            \n",
    "        self.params = [self.W, self.b]\n",
    "                    "
   ]
  },
  {
   "cell_type": "code",
   "execution_count": 4,
   "metadata": {
    "collapsed": false
   },
   "outputs": [],
   "source": [
    "class OutputLayer(object):\n",
    "    def __init__(self, rng, input, n_in, n_out, W = None, b = None, activation = None):\n",
    "        \"\"\"\n",
    "        Output layer of MAP\n",
    "        \n",
    "        rng: for random state --> np.random.RandomState\n",
    "        \"\"\"\n",
    "        self.input = input\n",
    "        \n",
    "        if W is None:\n",
    "            W_values = np.asarray(\n",
    "                rng.uniform(\n",
    "                    low = - np.sqrt(6. / (n_in + n_out)),\n",
    "                    high = np.sqrt(6. / (n_in + n_out)),\n",
    "                    size = (n_in, n_out)\n",
    "                    ),\n",
    "                dtype = theano.config.floatX\n",
    "                )\n",
    "            if activation == theano.tensor.nnet.sigmoid:\n",
    "                W_values *= 4\n",
    "            \n",
    "            W2 = theano.shared(W_values, name='W2', borrow = True)\n",
    "            \n",
    "        if b is None:\n",
    "            b_values = np.zeros((n_out,), dtype=theano.config.floatX)\n",
    "            b2 = theano.shared(value=b_values, name='b2', borrow=True)\n",
    "            \n",
    "        self.W = W2\n",
    "        self.b = b2\n",
    "            \n",
    "        lin_output = T.dot(input,self.W) + self.b\n",
    "        self.output = (\n",
    "            lin_output if activation is None\n",
    "            else activation(lin_output)\n",
    "            )\n",
    "            \n",
    "        self.params = [self.W, self.b]"
   ]
  },
  {
   "cell_type": "code",
   "execution_count": 5,
   "metadata": {
    "collapsed": true
   },
   "outputs": [],
   "source": [
    "class MAP(object):\n",
    "    \n",
    "    def __init__(self, rng, input, n_in, n_hidden, n_out):\n",
    "        \"\"\" Initialization\n",
    "        \"\"\"\n",
    "        self.hiddenLayer = HiddenLayer(\n",
    "            rng = rng,\n",
    "            input = input,\n",
    "            n_in = n_in,\n",
    "            n_out = n_hidden,\n",
    "            activation = T.tanh\n",
    "            )\n",
    "        \n",
    "        self.outputLayer = OutputLayer(\n",
    "            rng = rng,\n",
    "            input = self.hiddenLayer.output,\n",
    "            n_in = n_hidden,\n",
    "            n_out = n_out\n",
    "            )\n",
    "        \n",
    "        self.params = self.hiddenLayer.params + self.outputLayer.params\n",
    "        \n",
    "    def L2_regulation(self,y):\n",
    "        \"\"\" Returns the L2 regulation of object vector and predicted vetor\n",
    "        \"\"\"\n",
    "        \n",
    "        return T.sum((y - self.outputLayer.output) ** 2)"
   ]
  },
  {
   "cell_type": "code",
   "execution_count": 6,
   "metadata": {
    "collapsed": false
   },
   "outputs": [],
   "source": [
    "class MAPPING(object):\n",
    "    \"\"\" Returns the mapping function \n",
    "    X: np.array --> n_samples x n_features\n",
    "    Y: np.array --> n_samples x n_features\n",
    "    lam: penalization for weights\n",
    "    beta: weight for sparsity penalization\n",
    "    sparsity_param: desired average activation of the hidden units\n",
    "    \"\"\"\n",
    "    def __init__(self,learning_rate = 0.01, n_epochs = 1000, batch_size = 20, \n",
    "                 n_hidden = 200, lam = 1e-4, beta = 5, sparsity_param = 0.05):\n",
    "        self.learning_rate = learning_rate\n",
    "        self.n_epochs = n_epochs\n",
    "        self.batch_size = batch_size\n",
    "        self.n_hidden = n_hidden\n",
    "        self.lam = lam\n",
    "        self.beta = beta\n",
    "        self.sparsity_param = sparsity_param\n",
    "        self.W1  = None\n",
    "        self.W2 = None\n",
    "        self.b1 = None\n",
    "        self.b2 = None\n",
    "        self.x_mean = None\n",
    "        self.x_std = None\n",
    "        self.y_mean = None\n",
    "        self.y_std = None\n",
    "    \n",
    "    def fit(self,X,Y):\n",
    "        self.x_mean = X.mean()\n",
    "        self.x_std = X.std()\n",
    "        self.y_mean = Y.mean()\n",
    "        self.y_std = Y.std()\n",
    "        X = (X - self.x_mean) / self.x_std\n",
    "        Y = (Y - self.y_mean) / self.y_std\n",
    "        n_batches = X.shape[0] / self.batch_size\n",
    "\n",
    "        shared_X = theano.shared(np.asarray(X, dtype = theano.config.floatX))\n",
    "        shared_Y = theano.shared(np.asarray(Y, dtype = theano.config.floatX))\n",
    "\n",
    "        ### Build model ###\n",
    "        print \"... building the model...\"\n",
    "\n",
    "        # allocate symbolic variables for the data\n",
    "        index = T.lscalar() # index for a mini batch\n",
    "        x = T.dmatrix('x')\n",
    "        y = T.dmatrix('y')\n",
    "\n",
    "        rng = np.random.RandomState(1234)\n",
    "\n",
    "        # construct MAP class\n",
    "        f_mapping = MAP(\n",
    "            rng = rng,\n",
    "            input = x,\n",
    "            n_in = X.shape[1],\n",
    "            n_hidden = self.n_hidden,\n",
    "            n_out = Y.shape[1]\n",
    "            )\n",
    "\n",
    "        ### Cost function ########################################################\n",
    "        hidden_output = f_mapping.hiddenLayer.output\n",
    "        rho_hat = (T.sum(hidden_output, axis = 0) / X.shape[0] + 1) / 2 ## rescale to [0,1]\n",
    "        L2 = f_mapping.L2_regulation(y)/ self.batch_size * 0.5 # penalization for vector\n",
    "        reg = 0.5 * self.lam * (T.sum(f_mapping.hiddenLayer.W ** 2) + T.sum(f_mapping.hiddenLayer.b **2) + T.sum(f_mapping.outputLayer.W ** 2) + T.sum(f_mapping.outputLayer.b ** 2))\n",
    "        sparsity = self.beta * T.sum(self.sparsity_param * T.log(self.sparsity_param / rho_hat) + (1 - self.sparsity_param) * T.log((1 - self.sparsity_param) / ( 1 - rho_hat)))\n",
    "        cost = L2 + sparsity + reg \n",
    "\n",
    "        # compute the gradient of the cost wrt to parameters\n",
    "        gparams = [T.grad(cost,param) for param in f_mapping.params]\n",
    "\n",
    "        # specify how to update parameters\n",
    "        updates = [\n",
    "            (param, param - self.learning_rate * gparam)\n",
    "            for param, gparam in zip(f_mapping.params, gparams)\n",
    "            ]\n",
    "\n",
    "\n",
    "\n",
    "        ## train the model\n",
    "        train_model = theano.function(\n",
    "            inputs = [index],\n",
    "            outputs = cost,\n",
    "            updates = updates,\n",
    "            givens={\n",
    "                x: shared_X[index * self.batch_size: (index + 1) * self.batch_size],\n",
    "                y: shared_Y[index * self.batch_size: (index + 1) * self.batch_size]\n",
    "                }\n",
    "            )\n",
    "\n",
    "\n",
    "        start_time = time.clock()\n",
    "\n",
    "        epoch = 0\n",
    "        done_looping = False\n",
    "\n",
    "        while (epoch < self.n_epochs) and (not done_looping):\n",
    "            epoch += 1\n",
    "            minibatch_avg_cost = 0\n",
    "            n = 0\n",
    "            for minibatch_index in xrange(n_batches):\n",
    "                minibatch_avg_cost += train_model(minibatch_index)\n",
    "                n += 1\n",
    "            print 'epoch', epoch\n",
    "            print minibatch_avg_cost * 1. / n\n",
    "        \n",
    "        self.W1 = f_mapping.hiddenLayer.W.get_value()\n",
    "        #print self.W1\n",
    "        #print \"-------------------------------------\"\n",
    "        #print\n",
    "        self.b1 = f_mapping.hiddenLayer.b.get_value()\n",
    "        self.W2 = f_mapping.outputLayer.W.get_value()\n",
    "        self.b2 = f_mapping.outputLayer.b.get_value()\n",
    "    \n",
    "    def transfrom(self,X):\n",
    "        \"\"\"\n",
    "        X: n_sample x n_features\n",
    "        \"\"\"\n",
    "        X = (X - self.x_mean)/self.x_std\n",
    "        Y = np.dot(np.tanh(np.dot(X,self.W1) + self.b1 ), self.W2 ) + self.b2\n",
    "        return Y * self.y_std + self.y_mean"
   ]
  },
  {
   "cell_type": "code",
   "execution_count": 7,
   "metadata": {
    "collapsed": false
   },
   "outputs": [
    {
     "ename": "OSError",
     "evalue": "[Errno 2] No such file or directory: '/home/ce/workspace/data-fusion/'",
     "output_type": "error",
     "traceback": [
      "\u001b[1;31m---------------------------------------------------------------------------\u001b[0m",
      "\u001b[1;31mOSError\u001b[0m                                   Traceback (most recent call last)",
      "\u001b[1;32m<ipython-input-7-68452a5f7c12>\u001b[0m in \u001b[0;36m<module>\u001b[1;34m()\u001b[0m\n\u001b[0;32m      1\u001b[0m \u001b[1;32mimport\u001b[0m \u001b[0mos\u001b[0m\u001b[1;33m\u001b[0m\u001b[0m\n\u001b[0;32m      2\u001b[0m \u001b[0mf_dir\u001b[0m \u001b[1;33m=\u001b[0m \u001b[1;34m\"/home/ce/workspace/data-fusion/\"\u001b[0m\u001b[1;33m\u001b[0m\u001b[0m\n\u001b[1;32m----> 3\u001b[1;33m \u001b[0mos\u001b[0m\u001b[1;33m.\u001b[0m\u001b[0mchdir\u001b[0m\u001b[1;33m(\u001b[0m\u001b[0mf_dir\u001b[0m\u001b[1;33m)\u001b[0m\u001b[1;33m\u001b[0m\u001b[0m\n\u001b[0m\u001b[0;32m      4\u001b[0m \u001b[1;32mimport\u001b[0m \u001b[0mcPickle\u001b[0m\u001b[1;33m\u001b[0m\u001b[0m\n",
      "\u001b[1;31mOSError\u001b[0m: [Errno 2] No such file or directory: '/home/ce/workspace/data-fusion/'"
     ]
    }
   ],
   "source": [
    "import os\n",
    "f_dir = \"/home/ce/workspace/data-fusion/\"\n",
    "os.chdir(f_dir)\n",
    "import cPickle"
   ]
  },
  {
   "cell_type": "code",
   "execution_count": 10,
   "metadata": {
    "collapsed": false
   },
   "outputs": [
    {
     "name": "stdout",
     "output_type": "stream",
     "text": [
      "total 3.1G\r\n",
      "-rw-r--r-- 1 ce ce  158 Mar 31  2009 batches.meta\r\n",
      "-rw-r--r-- 1 ce ce  30M Mar 31  2009 data_batch_1\r\n",
      "-rw-r--r-- 1 ce ce  30M Mar 31  2009 data_batch_2\r\n",
      "-rw-r--r-- 1 ce ce  30M Mar 31  2009 data_batch_3\r\n",
      "-rw-r--r-- 1 ce ce  30M Mar 31  2009 data_batch_4\r\n",
      "-rw-r--r-- 1 ce ce  30M Mar 31  2009 data_batch_5\r\n",
      "-rw-rw-r-- 1 ce ce  12K Mar 17 17:12 labels_vectors\r\n",
      "-rw-r--r-- 1 ce ce   88 Jun  5  2009 readme.html\r\n",
      "-rw-r--r-- 1 ce ce  30M Mar 31  2009 test_batch\r\n",
      "-rw-rw-r-- 1 ce ce 285M Mar 17 17:12 test_x\r\n",
      "-rw-rw-r-- 1 ce ce 6.6M Mar 17 17:12 test_y\r\n",
      "-rw-rw-r-- 1 ce ce 2.5G Mar 17 17:12 train_x\r\n",
      "-rw-rw-r-- 1 ce ce  59M Mar 17 17:12 train_y\r\n"
     ]
    }
   ],
   "source": [
    "!ls -lh data/cifar-10-batches-py/"
   ]
  },
  {
   "cell_type": "code",
   "execution_count": 11,
   "metadata": {
    "collapsed": false
   },
   "outputs": [
    {
     "name": "stdout",
     "output_type": "stream",
     "text": [
      "CPU times: user 19.7 s, sys: 402 ms, total: 20.1 s\n",
      "Wall time: 20.1 s\n",
      "CPU times: user 474 ms, sys: 11.2 ms, total: 485 ms\n",
      "Wall time: 485 ms\n",
      "CPU times: user 2min 41s, sys: 2.97 s, total: 2min 44s\n",
      "Wall time: 2min 44s\n",
      "CPU times: user 3.71 s, sys: 59.4 ms, total: 3.77 s\n",
      "Wall time: 3.78 s\n"
     ]
    }
   ],
   "source": [
    "\n",
    "with open(\"data/cifar-10-batches-py/test_x\",\"r\") as f:\n",
    "    %time test_x = cPickle.load(f)\n",
    "with open(\"data/cifar-10-batches-py/test_y\",\"r\") as f:\n",
    "    %time test_y = cPickle.load(f)\n",
    "with open(\"data/cifar-10-batches-py/train_x\",\"r\") as f:\n",
    "    %time train_x = cPickle.load(f)\n",
    "with open(\"data/cifar-10-batches-py/train_y\",\"r\") as f:\n",
    "    %time train_y = cPickle.load(f)"
   ]
  },
  {
   "cell_type": "code",
   "execution_count": 12,
   "metadata": {
    "collapsed": false
   },
   "outputs": [
    {
     "name": "stdout",
     "output_type": "stream",
     "text": [
      "... building the model...\n",
      "CPU times: user 50min 47s, sys: 3min 18s, total: 54min 5s\n",
      "Wall time: 27min 10s\n"
     ]
    }
   ],
   "source": [
    "mapping = MAPPING(n_hidden = 200, n_epochs = 200, batch_size = 200)\n",
    "%time mapping.fit(train_x,train_y)"
   ]
  },
  {
   "cell_type": "code",
   "execution_count": 61,
   "metadata": {
    "collapsed": false
   },
   "outputs": [
    {
     "name": "stdout",
     "output_type": "stream",
     "text": [
      "... building the model...\n",
      "epoch 1\n",
      "1835.36973492\n",
      "epoch 2\n",
      "118917.534531\n",
      "epoch 3\n",
      "13541047.8011\n",
      "epoch 4\n",
      "1813703923.51\n",
      "epoch 5\n",
      "873342574018.0\n"
     ]
    },
    {
     "ename": "KeyboardInterrupt",
     "evalue": "",
     "output_type": "error",
     "traceback": [
      "\u001b[1;31m---------------------------------------------------------------------------\u001b[0m",
      "\u001b[1;31mKeyboardInterrupt\u001b[0m                         Traceback (most recent call last)",
      "\u001b[1;32m<ipython-input-61-8ec76ade7b32>\u001b[0m in \u001b[0;36m<module>\u001b[1;34m()\u001b[0m\n\u001b[0;32m      1\u001b[0m \u001b[0mmapping\u001b[0m \u001b[1;33m=\u001b[0m \u001b[0mMAPPING\u001b[0m\u001b[1;33m(\u001b[0m\u001b[0mn_hidden\u001b[0m \u001b[1;33m=\u001b[0m \u001b[1;36m200\u001b[0m\u001b[1;33m,\u001b[0m \u001b[0mn_epochs\u001b[0m \u001b[1;33m=\u001b[0m \u001b[1;36m200\u001b[0m\u001b[1;33m,\u001b[0m \u001b[0mbatch_size\u001b[0m \u001b[1;33m=\u001b[0m \u001b[1;36m200\u001b[0m\u001b[1;33m)\u001b[0m\u001b[1;33m\u001b[0m\u001b[0m\n\u001b[1;32m----> 2\u001b[1;33m \u001b[0mget_ipython\u001b[0m\u001b[1;33m(\u001b[0m\u001b[1;33m)\u001b[0m\u001b[1;33m.\u001b[0m\u001b[0mmagic\u001b[0m\u001b[1;33m(\u001b[0m\u001b[1;34mu'time mapping.fit(train_x,train_y)'\u001b[0m\u001b[1;33m)\u001b[0m\u001b[1;33m\u001b[0m\u001b[0m\n\u001b[0m",
      "\u001b[1;32m/usr/local/lib/python2.7/dist-packages/IPython/core/interactiveshell.pyc\u001b[0m in \u001b[0;36mmagic\u001b[1;34m(self, arg_s)\u001b[0m\n\u001b[0;32m   2302\u001b[0m         \u001b[0mmagic_name\u001b[0m\u001b[1;33m,\u001b[0m \u001b[0m_\u001b[0m\u001b[1;33m,\u001b[0m \u001b[0mmagic_arg_s\u001b[0m \u001b[1;33m=\u001b[0m \u001b[0marg_s\u001b[0m\u001b[1;33m.\u001b[0m\u001b[0mpartition\u001b[0m\u001b[1;33m(\u001b[0m\u001b[1;34m' '\u001b[0m\u001b[1;33m)\u001b[0m\u001b[1;33m\u001b[0m\u001b[0m\n\u001b[0;32m   2303\u001b[0m         \u001b[0mmagic_name\u001b[0m \u001b[1;33m=\u001b[0m \u001b[0mmagic_name\u001b[0m\u001b[1;33m.\u001b[0m\u001b[0mlstrip\u001b[0m\u001b[1;33m(\u001b[0m\u001b[0mprefilter\u001b[0m\u001b[1;33m.\u001b[0m\u001b[0mESC_MAGIC\u001b[0m\u001b[1;33m)\u001b[0m\u001b[1;33m\u001b[0m\u001b[0m\n\u001b[1;32m-> 2304\u001b[1;33m         \u001b[1;32mreturn\u001b[0m \u001b[0mself\u001b[0m\u001b[1;33m.\u001b[0m\u001b[0mrun_line_magic\u001b[0m\u001b[1;33m(\u001b[0m\u001b[0mmagic_name\u001b[0m\u001b[1;33m,\u001b[0m \u001b[0mmagic_arg_s\u001b[0m\u001b[1;33m)\u001b[0m\u001b[1;33m\u001b[0m\u001b[0m\n\u001b[0m\u001b[0;32m   2305\u001b[0m \u001b[1;33m\u001b[0m\u001b[0m\n\u001b[0;32m   2306\u001b[0m     \u001b[1;31m#-------------------------------------------------------------------------\u001b[0m\u001b[1;33m\u001b[0m\u001b[1;33m\u001b[0m\u001b[0m\n",
      "\u001b[1;32m/usr/local/lib/python2.7/dist-packages/IPython/core/interactiveshell.pyc\u001b[0m in \u001b[0;36mrun_line_magic\u001b[1;34m(self, magic_name, line)\u001b[0m\n\u001b[0;32m   2223\u001b[0m                 \u001b[0mkwargs\u001b[0m\u001b[1;33m[\u001b[0m\u001b[1;34m'local_ns'\u001b[0m\u001b[1;33m]\u001b[0m \u001b[1;33m=\u001b[0m \u001b[0msys\u001b[0m\u001b[1;33m.\u001b[0m\u001b[0m_getframe\u001b[0m\u001b[1;33m(\u001b[0m\u001b[0mstack_depth\u001b[0m\u001b[1;33m)\u001b[0m\u001b[1;33m.\u001b[0m\u001b[0mf_locals\u001b[0m\u001b[1;33m\u001b[0m\u001b[0m\n\u001b[0;32m   2224\u001b[0m             \u001b[1;32mwith\u001b[0m \u001b[0mself\u001b[0m\u001b[1;33m.\u001b[0m\u001b[0mbuiltin_trap\u001b[0m\u001b[1;33m:\u001b[0m\u001b[1;33m\u001b[0m\u001b[0m\n\u001b[1;32m-> 2225\u001b[1;33m                 \u001b[0mresult\u001b[0m \u001b[1;33m=\u001b[0m \u001b[0mfn\u001b[0m\u001b[1;33m(\u001b[0m\u001b[1;33m*\u001b[0m\u001b[0margs\u001b[0m\u001b[1;33m,\u001b[0m\u001b[1;33m**\u001b[0m\u001b[0mkwargs\u001b[0m\u001b[1;33m)\u001b[0m\u001b[1;33m\u001b[0m\u001b[0m\n\u001b[0m\u001b[0;32m   2226\u001b[0m             \u001b[1;32mreturn\u001b[0m \u001b[0mresult\u001b[0m\u001b[1;33m\u001b[0m\u001b[0m\n\u001b[0;32m   2227\u001b[0m \u001b[1;33m\u001b[0m\u001b[0m\n",
      "\u001b[1;32m/usr/local/lib/python2.7/dist-packages/IPython/core/magics/execution.pyc\u001b[0m in \u001b[0;36mtime\u001b[1;34m(self, line, cell, local_ns)\u001b[0m\n",
      "\u001b[1;32m/usr/local/lib/python2.7/dist-packages/IPython/core/magic.pyc\u001b[0m in \u001b[0;36m<lambda>\u001b[1;34m(f, *a, **k)\u001b[0m\n\u001b[0;32m    191\u001b[0m     \u001b[1;31m# but it's overkill for just that one bit of state.\u001b[0m\u001b[1;33m\u001b[0m\u001b[1;33m\u001b[0m\u001b[0m\n\u001b[0;32m    192\u001b[0m     \u001b[1;32mdef\u001b[0m \u001b[0mmagic_deco\u001b[0m\u001b[1;33m(\u001b[0m\u001b[0marg\u001b[0m\u001b[1;33m)\u001b[0m\u001b[1;33m:\u001b[0m\u001b[1;33m\u001b[0m\u001b[0m\n\u001b[1;32m--> 193\u001b[1;33m         \u001b[0mcall\u001b[0m \u001b[1;33m=\u001b[0m \u001b[1;32mlambda\u001b[0m \u001b[0mf\u001b[0m\u001b[1;33m,\u001b[0m \u001b[1;33m*\u001b[0m\u001b[0ma\u001b[0m\u001b[1;33m,\u001b[0m \u001b[1;33m**\u001b[0m\u001b[0mk\u001b[0m\u001b[1;33m:\u001b[0m \u001b[0mf\u001b[0m\u001b[1;33m(\u001b[0m\u001b[1;33m*\u001b[0m\u001b[0ma\u001b[0m\u001b[1;33m,\u001b[0m \u001b[1;33m**\u001b[0m\u001b[0mk\u001b[0m\u001b[1;33m)\u001b[0m\u001b[1;33m\u001b[0m\u001b[0m\n\u001b[0m\u001b[0;32m    194\u001b[0m \u001b[1;33m\u001b[0m\u001b[0m\n\u001b[0;32m    195\u001b[0m         \u001b[1;32mif\u001b[0m \u001b[0mcallable\u001b[0m\u001b[1;33m(\u001b[0m\u001b[0marg\u001b[0m\u001b[1;33m)\u001b[0m\u001b[1;33m:\u001b[0m\u001b[1;33m\u001b[0m\u001b[0m\n",
      "\u001b[1;32m/usr/local/lib/python2.7/dist-packages/IPython/core/magics/execution.pyc\u001b[0m in \u001b[0;36mtime\u001b[1;34m(self, line, cell, local_ns)\u001b[0m\n\u001b[0;32m   1160\u001b[0m         \u001b[1;32mif\u001b[0m \u001b[0mmode\u001b[0m\u001b[1;33m==\u001b[0m\u001b[1;34m'eval'\u001b[0m\u001b[1;33m:\u001b[0m\u001b[1;33m\u001b[0m\u001b[0m\n\u001b[0;32m   1161\u001b[0m             \u001b[0mst\u001b[0m \u001b[1;33m=\u001b[0m \u001b[0mclock2\u001b[0m\u001b[1;33m(\u001b[0m\u001b[1;33m)\u001b[0m\u001b[1;33m\u001b[0m\u001b[0m\n\u001b[1;32m-> 1162\u001b[1;33m             \u001b[0mout\u001b[0m \u001b[1;33m=\u001b[0m \u001b[0meval\u001b[0m\u001b[1;33m(\u001b[0m\u001b[0mcode\u001b[0m\u001b[1;33m,\u001b[0m \u001b[0mglob\u001b[0m\u001b[1;33m,\u001b[0m \u001b[0mlocal_ns\u001b[0m\u001b[1;33m)\u001b[0m\u001b[1;33m\u001b[0m\u001b[0m\n\u001b[0m\u001b[0;32m   1163\u001b[0m             \u001b[0mend\u001b[0m \u001b[1;33m=\u001b[0m \u001b[0mclock2\u001b[0m\u001b[1;33m(\u001b[0m\u001b[1;33m)\u001b[0m\u001b[1;33m\u001b[0m\u001b[0m\n\u001b[0;32m   1164\u001b[0m         \u001b[1;32melse\u001b[0m\u001b[1;33m:\u001b[0m\u001b[1;33m\u001b[0m\u001b[0m\n",
      "\u001b[1;32m<timed eval>\u001b[0m in \u001b[0;36m<module>\u001b[1;34m()\u001b[0m\n",
      "\u001b[1;32m<ipython-input-60-dbd8afc2d1ec>\u001b[0m in \u001b[0;36mfit\u001b[1;34m(self, X, Y)\u001b[0m\n\u001b[0;32m     97\u001b[0m             \u001b[0mn\u001b[0m \u001b[1;33m=\u001b[0m \u001b[1;36m0\u001b[0m\u001b[1;33m\u001b[0m\u001b[0m\n\u001b[0;32m     98\u001b[0m             \u001b[1;32mfor\u001b[0m \u001b[0mminibatch_index\u001b[0m \u001b[1;32min\u001b[0m \u001b[0mxrange\u001b[0m\u001b[1;33m(\u001b[0m\u001b[0mn_batches\u001b[0m\u001b[1;33m)\u001b[0m\u001b[1;33m:\u001b[0m\u001b[1;33m\u001b[0m\u001b[0m\n\u001b[1;32m---> 99\u001b[1;33m                 \u001b[0mminibatch_avg_cost\u001b[0m \u001b[1;33m+=\u001b[0m \u001b[0mtrain_model\u001b[0m\u001b[1;33m(\u001b[0m\u001b[0mminibatch_index\u001b[0m\u001b[1;33m)\u001b[0m\u001b[1;33m\u001b[0m\u001b[0m\n\u001b[0m\u001b[0;32m    100\u001b[0m                 \u001b[0mn\u001b[0m \u001b[1;33m+=\u001b[0m \u001b[1;36m1\u001b[0m\u001b[1;33m\u001b[0m\u001b[0m\n\u001b[0;32m    101\u001b[0m             \u001b[1;32mprint\u001b[0m \u001b[1;34m'epoch'\u001b[0m\u001b[1;33m,\u001b[0m \u001b[0mepoch\u001b[0m\u001b[1;33m\u001b[0m\u001b[0m\n",
      "\u001b[1;32m/usr/local/lib/python2.7/dist-packages/theano/compile/function_module.pyc\u001b[0m in \u001b[0;36m__call__\u001b[1;34m(self, *args, **kwargs)\u001b[0m\n\u001b[0;32m    577\u001b[0m         \u001b[0mt0_fn\u001b[0m \u001b[1;33m=\u001b[0m \u001b[0mtime\u001b[0m\u001b[1;33m.\u001b[0m\u001b[0mtime\u001b[0m\u001b[1;33m(\u001b[0m\u001b[1;33m)\u001b[0m\u001b[1;33m\u001b[0m\u001b[0m\n\u001b[0;32m    578\u001b[0m         \u001b[1;32mtry\u001b[0m\u001b[1;33m:\u001b[0m\u001b[1;33m\u001b[0m\u001b[0m\n\u001b[1;32m--> 579\u001b[1;33m             \u001b[0moutputs\u001b[0m \u001b[1;33m=\u001b[0m \u001b[0mself\u001b[0m\u001b[1;33m.\u001b[0m\u001b[0mfn\u001b[0m\u001b[1;33m(\u001b[0m\u001b[1;33m)\u001b[0m\u001b[1;33m\u001b[0m\u001b[0m\n\u001b[0m\u001b[0;32m    580\u001b[0m         \u001b[1;32mexcept\u001b[0m \u001b[0mException\u001b[0m\u001b[1;33m:\u001b[0m\u001b[1;33m\u001b[0m\u001b[0m\n\u001b[0;32m    581\u001b[0m             \u001b[1;32mif\u001b[0m \u001b[0mhasattr\u001b[0m\u001b[1;33m(\u001b[0m\u001b[0mself\u001b[0m\u001b[1;33m.\u001b[0m\u001b[0mfn\u001b[0m\u001b[1;33m,\u001b[0m \u001b[1;34m'position_of_error'\u001b[0m\u001b[1;33m)\u001b[0m\u001b[1;33m:\u001b[0m\u001b[1;33m\u001b[0m\u001b[0m\n",
      "\u001b[1;31mKeyboardInterrupt\u001b[0m: "
     ]
    }
   ],
   "source": [
    "mapping = MAPPING(n_hidden = 200, n_epochs = 200, batch_size = 200)\n",
    "%time mapping.fit(train_x,train_y)"
   ]
  },
  {
   "cell_type": "code",
   "execution_count": 27,
   "metadata": {
    "collapsed": false,
    "scrolled": false
   },
   "outputs": [],
   "source": [
    "y_pred = mapping.transfrom(test_x)"
   ]
  },
  {
   "cell_type": "code",
   "execution_count": 29,
   "metadata": {
    "collapsed": true
   },
   "outputs": [],
   "source": [
    "train_y_pred = mapping.transfrom(train_x)"
   ]
  },
  {
   "cell_type": "code",
   "execution_count": 30,
   "metadata": {
    "collapsed": false
   },
   "outputs": [
    {
     "name": "stdout",
     "output_type": "stream",
     "text": [
      "CPU times: user 1.03 ms, sys: 147 µs, total: 1.17 ms\n",
      "Wall time: 1.03 ms\n"
     ]
    }
   ],
   "source": [
    "with open(\"data/cifar-10-batches-py/labels_vectors\",\"r\") as f:\n",
    "    %time label_vec = cPickle.load(f)"
   ]
  },
  {
   "cell_type": "code",
   "execution_count": 31,
   "metadata": {
    "collapsed": false
   },
   "outputs": [],
   "source": [
    "sim_cosine_train = np.zeros((train_y_pred.shape[0],label_vec.shape[0]))\n",
    "for i in xrange(train_y_pred.shape[0]):\n",
    "    for j in xrange(label_vec.shape[0]):\n",
    "        sim_cosine_train[i,j] = np.dot(train_y_pred[i],label_vec[j])/np.sqrt((train_y_pred[i]**2).sum())/np.sqrt((label_vec[j]**2).sum())"
   ]
  },
  {
   "cell_type": "code",
   "execution_count": 32,
   "metadata": {
    "collapsed": true
   },
   "outputs": [],
   "source": [
    "sim_cosine = np.zeros((y_pred.shape[0],label_vec.shape[0]))\n",
    "for i in xrange(y_pred.shape[0]):\n",
    "    for j in xrange(label_vec.shape[0]):\n",
    "        sim_cosine[i,j] = np.dot(y_pred[i],label_vec[j])/np.sqrt((y_pred[i]**2).sum())/np.sqrt((label_vec[j]**2).sum())"
   ]
  },
  {
   "cell_type": "code",
   "execution_count": 33,
   "metadata": {
    "collapsed": false
   },
   "outputs": [],
   "source": [
    "train_pred = np.argsort(sim_cosine)[:,-1]"
   ]
  },
  {
   "cell_type": "code",
   "execution_count": null,
   "metadata": {
    "collapsed": true
   },
   "outputs": [],
   "source": []
  },
  {
   "cell_type": "markdown",
   "metadata": {},
   "source": [
    "# Evaluation"
   ]
  },
  {
   "cell_type": "code",
   "execution_count": 34,
   "metadata": {
    "collapsed": false
   },
   "outputs": [
    {
     "name": "stdout",
     "output_type": "stream",
     "text": [
      "Counter({3: 3586, 2: 1581, 7: 383, 4: 233, 6: 92, 0: 81, 8: 26, 1: 10, 9: 8})\n"
     ]
    }
   ],
   "source": [
    "## number of predict classes\n",
    "from collections import Counter\n",
    "print Counter(np.argsort(sim_cosine)[:,-1])"
   ]
  },
  {
   "cell_type": "code",
   "execution_count": 35,
   "metadata": {
    "collapsed": false
   },
   "outputs": [
    {
     "data": {
      "text/plain": [
       "<matplotlib.text.Text at 0x7ff7346ce990>"
      ]
     },
     "execution_count": 35,
     "metadata": {},
     "output_type": "execute_result"
    },
    {
     "data": {
      "image/png": "[encoded data removed]",
      "text/plain": [
       "<matplotlib.figure.Figure at 0x7ff735c67050>"
      ]
     },
     "metadata": {},
     "output_type": "display_data"
    }
   ],
   "source": [
    "import matplotlib.pylab as pl\n",
    "%matplotlib inline\n",
    "rank = 10 - np.where(np.argsort(sim_cosine) == 5)[1]\n",
    "pl.hist(rank,bins=10)\n",
    "pl.title('rank of dog label for dog images')"
   ]
  },
  {
   "cell_type": "code",
   "execution_count": 36,
   "metadata": {
    "collapsed": false
   },
   "outputs": [
    {
     "data": {
      "text/plain": [
       "<matplotlib.text.Text at 0x7ff731c55b50>"
      ]
     },
     "execution_count": 36,
     "metadata": {},
     "output_type": "execute_result"
    },
    {
     "data": {
      "image/png": "[encoded data removed]",
      "text/plain": [
       "<matplotlib.figure.Figure at 0x7ff735d15a90>"
      ]
     },
     "metadata": {},
     "output_type": "display_data"
    }
   ],
   "source": [
    "import matplotlib.pylab as pl\n",
    "%matplotlib inline\n",
    "pl.hist(sim_cosine[np.where(np.argsort(sim_cosine) == 5)])\n",
    "pl.title('cosine similarity of dog label to predict label')"
   ]
  },
  {
   "cell_type": "code",
   "execution_count": 37,
   "metadata": {
    "collapsed": true
   },
   "outputs": [],
   "source": [
    "cosine_dog = np.zeros((train_x.shape[0] + test_x.shape[0],))\n",
    "tmp = np.concatenate((train_y_pred, y_pred))\n",
    "for i in xrange(cosine_dog.shape[0]):\n",
    "    cosine_dog[i] = np.dot(label_vec[5],tmp[i])/np.sqrt((label_vec[5]**2).sum())/np.sqrt((tmp[i]**2).sum())"
   ]
  },
  {
   "cell_type": "code",
   "execution_count": 39,
   "metadata": {
    "collapsed": true
   },
   "outputs": [],
   "source": [
    "with open(\"data/cifar-10-batches-py/batches.meta\",\"r\") as f:\n",
    "    meta = cPickle.load(f)"
   ]
  },
  {
   "cell_type": "code",
   "execution_count": 40,
   "metadata": {
    "collapsed": false
   },
   "outputs": [
    {
     "name": "stdout",
     "output_type": "stream",
     "text": [
      "0 airplane\n",
      "1 automobile\n",
      "2 bird\n",
      "3 cat\n",
      "4 deer\n",
      "5 dog\n",
      "6 frog\n",
      "7 horse\n",
      "8 ship\n",
      "9 truck\n"
     ]
    }
   ],
   "source": [
    "j = 0\n",
    "info = []\n",
    "for i in meta[\"label_names\"]:\n",
    "    print j, i\n",
    "    info.append((j,i))\n",
    "    j+= 1"
   ]
  },
  {
   "cell_type": "code",
   "execution_count": 42,
   "metadata": {
    "collapsed": true
   },
   "outputs": [],
   "source": [
    "labels = np.zeros((train_y.shape[0],))\n",
    "for i in xrange(train_y.shape[0]):\n",
    "    for j in xrange(label_vec.shape[0]):\n",
    "        if (label_vec[j] == train_y[i]).all():\n",
    "            labels[i] = j\n",
    "            pass"
   ]
  },
  {
   "cell_type": "code",
   "execution_count": 43,
   "metadata": {
    "collapsed": false,
    "scrolled": true
   },
   "outputs": [
    {
     "name": "stdout",
     "output_type": "stream",
     "text": [
      "dog\n",
      "cat\n",
      "cat\n",
      "dog\n",
      "dog\n",
      "dog\n",
      "cat\n",
      "cat\n",
      "cat\n",
      "cat\n",
      "dog\n",
      "dog\n",
      "cat\n",
      "deer\n",
      "dog\n",
      "dog\n",
      "dog\n",
      "dog\n",
      "cat\n",
      "cat\n",
      "cat\n",
      "dog\n",
      "cat\n",
      "horse\n",
      "cat\n",
      "cat\n",
      "horse\n",
      "dog\n",
      "cat\n",
      "deer\n",
      "truck\n",
      "dog\n",
      "dog\n",
      "horse\n",
      "cat\n",
      "cat\n",
      "dog\n",
      "dog\n",
      "cat\n",
      "automobile\n",
      "cat\n",
      "dog\n",
      "cat\n",
      "cat\n",
      "horse\n",
      "cat\n",
      "cat\n",
      "dog\n",
      "cat\n",
      "cat\n",
      "cat\n",
      "cat\n",
      "deer\n",
      "dog\n",
      "dog\n",
      "dog\n",
      "cat\n",
      "dog\n",
      "dog\n",
      "dog\n",
      "cat\n",
      "cat\n",
      "dog\n",
      "cat\n",
      "cat\n",
      "cat\n",
      "cat\n",
      "cat\n",
      "cat\n",
      "dog\n",
      "dog\n",
      "dog\n",
      "cat\n",
      "dog\n",
      "cat\n",
      "deer\n",
      "dog\n",
      "deer\n",
      "dog\n",
      "cat\n",
      "dog\n",
      "cat\n",
      "dog\n",
      "cat\n",
      "dog\n",
      "dog\n",
      "dog\n",
      "cat\n",
      "dog\n",
      "cat\n",
      "dog\n",
      "cat\n",
      "dog\n",
      "cat\n",
      "cat\n",
      "bird\n",
      "dog\n",
      "bird\n",
      "dog\n",
      "horse\n",
      "cat\n",
      "dog\n",
      "cat\n",
      "dog\n",
      "dog\n",
      "dog\n",
      "dog\n",
      "dog\n",
      "cat\n",
      "dog\n",
      "dog\n",
      "dog\n",
      "dog\n",
      "cat\n",
      "dog\n",
      "horse\n",
      "cat\n",
      "bird\n",
      "cat\n",
      "dog\n",
      "horse\n",
      "dog\n",
      "bird\n",
      "cat\n",
      "dog\n",
      "cat\n",
      "horse\n",
      "dog\n",
      "dog\n",
      "dog\n",
      "cat\n",
      "dog\n",
      "dog\n",
      "dog\n",
      "cat\n",
      "dog\n",
      "cat\n",
      "dog\n",
      "cat\n",
      "cat\n",
      "cat\n",
      "cat\n",
      "bird\n",
      "cat\n",
      "dog\n",
      "cat\n",
      "dog\n",
      "cat\n",
      "dog\n",
      "dog\n",
      "horse\n",
      "dog\n",
      "horse\n",
      "deer\n",
      "dog\n",
      "cat\n",
      "cat\n",
      "dog\n",
      "dog\n",
      "cat\n",
      "dog\n",
      "dog\n",
      "dog\n",
      "dog\n",
      "dog\n",
      "horse\n",
      "cat\n",
      "cat\n",
      "dog\n",
      "dog\n",
      "dog\n",
      "cat\n",
      "cat\n",
      "cat\n",
      "dog\n",
      "cat\n",
      "dog\n",
      "cat\n",
      "cat\n",
      "dog\n",
      "cat\n",
      "deer\n",
      "dog\n",
      "dog\n",
      "dog\n",
      "cat\n",
      "horse\n",
      "dog\n",
      "cat\n",
      "horse\n",
      "horse\n",
      "deer\n",
      "dog\n",
      "cat\n",
      "cat\n",
      "cat\n",
      "cat\n",
      "cat\n",
      "dog\n",
      "cat\n"
     ]
    }
   ],
   "source": [
    "for i in np.argsort(cosine_dog)[::-1][:200]:\n",
    "    if i > train_x.shape[0] - 1:\n",
    "        print 'dog'\n",
    "    else:\n",
    "        j = int(labels[i])\n",
    "        print info[j][1]"
   ]
  },
  {
   "cell_type": "code",
   "execution_count": null,
   "metadata": {
    "collapsed": true
   },
   "outputs": [],
   "source": []
  },
  {
   "cell_type": "code",
   "execution_count": null,
   "metadata": {
    "collapsed": false
   },
   "outputs": [],
   "source": [
    "print train_y_pred"
   ]
  },
  {
   "cell_type": "code",
   "execution_count": 44,
   "metadata": {
    "collapsed": true
   },
   "outputs": [],
   "source": [
    "sim_cosine = np.zeros((train_y_pred.shape[0],label_vec.shape[0]))\n",
    "for i in xrange(train_y_pred.shape[0]):\n",
    "    for j in xrange(label_vec.shape[0]):\n",
    "        sim_cosine[i,j] = np.dot(train_y_pred[i],label_vec[j])/np.sqrt((train_y_pred[i]**2).sum())/np.sqrt((label_vec[j]**2).sum())"
   ]
  },
  {
   "cell_type": "code",
   "execution_count": 45,
   "metadata": {
    "collapsed": false
   },
   "outputs": [
    {
     "name": "stdout",
     "output_type": "stream",
     "text": [
      "[6 9 0 ..., 3 2 7]\n"
     ]
    }
   ],
   "source": [
    "from collections import Counter\n",
    "print np.argsort(sim_cosine)[:,-1]"
   ]
  },
  {
   "cell_type": "code",
   "execution_count": 46,
   "metadata": {
    "collapsed": false
   },
   "outputs": [
    {
     "data": {
      "text/plain": [
       "Counter({True: 41534, False: 12466})"
      ]
     },
     "execution_count": 46,
     "metadata": {},
     "output_type": "execute_result"
    }
   ],
   "source": [
    "Counter(np.array(np.argsort(sim_cosine)[:,-1]) == labels)"
   ]
  },
  {
   "cell_type": "code",
   "execution_count": null,
   "metadata": {
    "collapsed": true
   },
   "outputs": [],
   "source": []
  }
 ],
 "metadata": {
  "kernelspec": {
   "display_name": "Python 2",
   "language": "python",
   "name": "python2"
  },
  "language_info": {
   "codemirror_mode": {
    "name": "ipython",
    "version": 2
   },
   "file_extension": ".py",
   "mimetype": "text/x-python",
   "name": "python",
   "nbconvert_exporter": "python",
   "pygments_lexer": "ipython2",
   "version": "2.7.6"
  }
 },
 "nbformat": 4,
 "nbformat_minor": 0
}
